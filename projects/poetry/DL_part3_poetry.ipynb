{
 "cells": [
  {
   "cell_type": "markdown",
   "metadata": {},
   "source": [
    "## Lab 2"
   ]
  },
  {
   "cell_type": "markdown",
   "metadata": {},
   "source": [
    "### Part 3. Poetry generation\n",
    "\n",
    "Let's try to generate some poetry using RNNs. \n",
    "\n",
    "You have several choices here: \n",
    "\n",
    "* The Shakespeare sonnets, file `sonnets.txt` available in the notebook directory.\n",
    "\n",
    "* Роман в стихах \"Евгений Онегин\" Александра Сергеевича Пушкина. В предобработанном виде доступен по [ссылке](https://github.com/attatrol/data_sources/blob/master/onegin.txt).\n",
    "\n",
    "* Some other text source, if it will be approved by the course staff.\n",
    "\n",
    "Text generation can be designed in several steps:\n",
    "    \n",
    "1. Data loading.\n",
    "2. Dictionary generation.\n",
    "3. Data preprocessing.\n",
    "4. Model (neural network) training.\n",
    "5. Text generation (model evaluation).\n"
   ]
  },
  {
   "cell_type": "code",
   "execution_count": 1,
   "metadata": {},
   "outputs": [],
   "source": [
    "import string\n",
    "import os\n",
    "import re"
   ]
  },
  {
   "cell_type": "markdown",
   "metadata": {},
   "source": [
    "### Data loading: \"Евгений Онегин\"\n"
   ]
  },
  {
   "cell_type": "code",
   "execution_count": 2,
   "metadata": {},
   "outputs": [],
   "source": [
    "# !wget https://raw.githubusercontent.com/attatrol/data_sources/master/onegin.txt\n",
    "    \n",
    "with open('onegin.txt', 'r', encoding='utf-8') as iofile:\n",
    "    text = iofile.readlines()\n",
    "    \n",
    "text = [x.replace('\\t\\t', '') for x in text]"
   ]
  },
  {
   "cell_type": "markdown",
   "metadata": {},
   "source": [
    "In opposite to the in-class practice, this time we want to predict complex text. Let's reduce the complexity of the task and lowercase all the symbols.\n",
    "\n",
    "Now variable `text` is a list of strings. Join all the strings into one and lowercase it."
   ]
  },
  {
   "cell_type": "code",
   "execution_count": 3,
   "metadata": {},
   "outputs": [
    {
     "data": {
      "text/plain": [
       "141888"
      ]
     },
     "execution_count": 3,
     "metadata": {},
     "output_type": "execute_result"
    }
   ],
   "source": [
    "# Join all the strings into one and lowercase it\n",
    "# Put result into variable text.\n",
    "\n",
    "# Your great code here\n",
    "text = ''.join(text).lower()\n",
    "len(text)"
   ]
  },
  {
   "cell_type": "code",
   "execution_count": 4,
   "metadata": {},
   "outputs": [],
   "source": [
    "def get_sentences(text):\n",
    "    sentences = re.split('\\n+[ivxlcdm]+?\\n+', text)\n",
    "    del(sentences[0])\n",
    "    return sentences"
   ]
  },
  {
   "cell_type": "code",
   "execution_count": 5,
   "metadata": {},
   "outputs": [
    {
     "name": "stdout",
     "output_type": "stream",
     "text": [
      "358\n"
     ]
    }
   ],
   "source": [
    "sentences = get_sentences(text)\n",
    "print(len(sentences))"
   ]
  },
  {
   "cell_type": "code",
   "execution_count": 6,
   "metadata": {},
   "outputs": [
    {
     "data": {
      "application/vnd.plotly.v1+json": {
       "config": {
        "plotlyServerURL": "https://plot.ly"
       },
       "data": [
        {
         "hovertemplate": "x=%{x}<br>y=%{y}<extra></extra>",
         "legendgroup": "",
         "marker": {
          "color": "#636efa",
          "pattern": {
           "shape": ""
          }
         },
         "name": "",
         "orientation": "v",
         "showlegend": false,
         "textposition": "auto",
         "texttemplate": "%{y}",
         "type": "bar",
         "x": [
          "\n",
          "i",
          "«",
          "м",
          "о",
          "й",
          " ",
          "д",
          "я",
          "с",
          "а",
          "ы",
          "х",
          "ч",
          "е",
          "т",
          "н",
          "п",
          "р",
          "в",
          "и",
          "л",
          ",",
          "к",
          "г",
          "ш",
          "у",
          "з",
          "ж",
          "ь",
          "б",
          ".",
          ";",
          "!",
          ":",
          "»",
          "ю",
          "—",
          "-",
          "ц",
          "m",
          "a",
          "d",
          "e",
          "o",
          "n",
          "s",
          "u",
          "r",
          "l",
          "’",
          "b",
          "€",
          "ф",
          "v",
          "y",
          "ъ",
          "?",
          "(",
          ")",
          "э",
          "щ",
          "x",
          "…",
          "ё",
          "–",
          "t",
          "f",
          "c",
          "h",
          "5",
          "k",
          "p",
          "q",
          "z",
          "w",
          "g",
          "^",
          "[",
          "7",
          "]",
          "8",
          "9"
         ],
         "xaxis": "x",
         "y": {
          "bdata": "sBslAoEAXg7dKmIJZURUD2cIUhWHH7kJfgT5BT4lYxkwHx0LUxKXE/gZ1xRsDOkM7wd2A6kMIAcaBeoJfwcDBDoCDwEhAX8A9wJTAGcApgERACQADQBEABcAGgATAA8AGABjAAIADAAFAF0AwgACABkA5QArACwAiwDNADUCowBkAGwAJgAEAAoABAABAAIABgACAAIAAQADAAIAAwAEAAMAAQABAA==",
          "dtype": "i2"
         },
         "yaxis": "y"
        }
       ],
       "layout": {
        "barmode": "relative",
        "legend": {
         "tracegroupgap": 0
        },
        "margin": {
         "t": 60
        },
        "template": {
         "data": {
          "bar": [
           {
            "error_x": {
             "color": "#2a3f5f"
            },
            "error_y": {
             "color": "#2a3f5f"
            },
            "marker": {
             "line": {
              "color": "#E5ECF6",
              "width": 0.5
             },
             "pattern": {
              "fillmode": "overlay",
              "size": 10,
              "solidity": 0.2
             }
            },
            "type": "bar"
           }
          ],
          "barpolar": [
           {
            "marker": {
             "line": {
              "color": "#E5ECF6",
              "width": 0.5
             },
             "pattern": {
              "fillmode": "overlay",
              "size": 10,
              "solidity": 0.2
             }
            },
            "type": "barpolar"
           }
          ],
          "carpet": [
           {
            "aaxis": {
             "endlinecolor": "#2a3f5f",
             "gridcolor": "white",
             "linecolor": "white",
             "minorgridcolor": "white",
             "startlinecolor": "#2a3f5f"
            },
            "baxis": {
             "endlinecolor": "#2a3f5f",
             "gridcolor": "white",
             "linecolor": "white",
             "minorgridcolor": "white",
             "startlinecolor": "#2a3f5f"
            },
            "type": "carpet"
           }
          ],
          "choropleth": [
           {
            "colorbar": {
             "outlinewidth": 0,
             "ticks": ""
            },
            "type": "choropleth"
           }
          ],
          "contour": [
           {
            "colorbar": {
             "outlinewidth": 0,
             "ticks": ""
            },
            "colorscale": [
             [
              0,
              "#0d0887"
             ],
             [
              0.1111111111111111,
              "#46039f"
             ],
             [
              0.2222222222222222,
              "#7201a8"
             ],
             [
              0.3333333333333333,
              "#9c179e"
             ],
             [
              0.4444444444444444,
              "#bd3786"
             ],
             [
              0.5555555555555556,
              "#d8576b"
             ],
             [
              0.6666666666666666,
              "#ed7953"
             ],
             [
              0.7777777777777778,
              "#fb9f3a"
             ],
             [
              0.8888888888888888,
              "#fdca26"
             ],
             [
              1,
              "#f0f921"
             ]
            ],
            "type": "contour"
           }
          ],
          "contourcarpet": [
           {
            "colorbar": {
             "outlinewidth": 0,
             "ticks": ""
            },
            "type": "contourcarpet"
           }
          ],
          "heatmap": [
           {
            "colorbar": {
             "outlinewidth": 0,
             "ticks": ""
            },
            "colorscale": [
             [
              0,
              "#0d0887"
             ],
             [
              0.1111111111111111,
              "#46039f"
             ],
             [
              0.2222222222222222,
              "#7201a8"
             ],
             [
              0.3333333333333333,
              "#9c179e"
             ],
             [
              0.4444444444444444,
              "#bd3786"
             ],
             [
              0.5555555555555556,
              "#d8576b"
             ],
             [
              0.6666666666666666,
              "#ed7953"
             ],
             [
              0.7777777777777778,
              "#fb9f3a"
             ],
             [
              0.8888888888888888,
              "#fdca26"
             ],
             [
              1,
              "#f0f921"
             ]
            ],
            "type": "heatmap"
           }
          ],
          "histogram": [
           {
            "marker": {
             "pattern": {
              "fillmode": "overlay",
              "size": 10,
              "solidity": 0.2
             }
            },
            "type": "histogram"
           }
          ],
          "histogram2d": [
           {
            "colorbar": {
             "outlinewidth": 0,
             "ticks": ""
            },
            "colorscale": [
             [
              0,
              "#0d0887"
             ],
             [
              0.1111111111111111,
              "#46039f"
             ],
             [
              0.2222222222222222,
              "#7201a8"
             ],
             [
              0.3333333333333333,
              "#9c179e"
             ],
             [
              0.4444444444444444,
              "#bd3786"
             ],
             [
              0.5555555555555556,
              "#d8576b"
             ],
             [
              0.6666666666666666,
              "#ed7953"
             ],
             [
              0.7777777777777778,
              "#fb9f3a"
             ],
             [
              0.8888888888888888,
              "#fdca26"
             ],
             [
              1,
              "#f0f921"
             ]
            ],
            "type": "histogram2d"
           }
          ],
          "histogram2dcontour": [
           {
            "colorbar": {
             "outlinewidth": 0,
             "ticks": ""
            },
            "colorscale": [
             [
              0,
              "#0d0887"
             ],
             [
              0.1111111111111111,
              "#46039f"
             ],
             [
              0.2222222222222222,
              "#7201a8"
             ],
             [
              0.3333333333333333,
              "#9c179e"
             ],
             [
              0.4444444444444444,
              "#bd3786"
             ],
             [
              0.5555555555555556,
              "#d8576b"
             ],
             [
              0.6666666666666666,
              "#ed7953"
             ],
             [
              0.7777777777777778,
              "#fb9f3a"
             ],
             [
              0.8888888888888888,
              "#fdca26"
             ],
             [
              1,
              "#f0f921"
             ]
            ],
            "type": "histogram2dcontour"
           }
          ],
          "mesh3d": [
           {
            "colorbar": {
             "outlinewidth": 0,
             "ticks": ""
            },
            "type": "mesh3d"
           }
          ],
          "parcoords": [
           {
            "line": {
             "colorbar": {
              "outlinewidth": 0,
              "ticks": ""
             }
            },
            "type": "parcoords"
           }
          ],
          "pie": [
           {
            "automargin": true,
            "type": "pie"
           }
          ],
          "scatter": [
           {
            "fillpattern": {
             "fillmode": "overlay",
             "size": 10,
             "solidity": 0.2
            },
            "type": "scatter"
           }
          ],
          "scatter3d": [
           {
            "line": {
             "colorbar": {
              "outlinewidth": 0,
              "ticks": ""
             }
            },
            "marker": {
             "colorbar": {
              "outlinewidth": 0,
              "ticks": ""
             }
            },
            "type": "scatter3d"
           }
          ],
          "scattercarpet": [
           {
            "marker": {
             "colorbar": {
              "outlinewidth": 0,
              "ticks": ""
             }
            },
            "type": "scattercarpet"
           }
          ],
          "scattergeo": [
           {
            "marker": {
             "colorbar": {
              "outlinewidth": 0,
              "ticks": ""
             }
            },
            "type": "scattergeo"
           }
          ],
          "scattergl": [
           {
            "marker": {
             "colorbar": {
              "outlinewidth": 0,
              "ticks": ""
             }
            },
            "type": "scattergl"
           }
          ],
          "scattermap": [
           {
            "marker": {
             "colorbar": {
              "outlinewidth": 0,
              "ticks": ""
             }
            },
            "type": "scattermap"
           }
          ],
          "scattermapbox": [
           {
            "marker": {
             "colorbar": {
              "outlinewidth": 0,
              "ticks": ""
             }
            },
            "type": "scattermapbox"
           }
          ],
          "scatterpolar": [
           {
            "marker": {
             "colorbar": {
              "outlinewidth": 0,
              "ticks": ""
             }
            },
            "type": "scatterpolar"
           }
          ],
          "scatterpolargl": [
           {
            "marker": {
             "colorbar": {
              "outlinewidth": 0,
              "ticks": ""
             }
            },
            "type": "scatterpolargl"
           }
          ],
          "scatterternary": [
           {
            "marker": {
             "colorbar": {
              "outlinewidth": 0,
              "ticks": ""
             }
            },
            "type": "scatterternary"
           }
          ],
          "surface": [
           {
            "colorbar": {
             "outlinewidth": 0,
             "ticks": ""
            },
            "colorscale": [
             [
              0,
              "#0d0887"
             ],
             [
              0.1111111111111111,
              "#46039f"
             ],
             [
              0.2222222222222222,
              "#7201a8"
             ],
             [
              0.3333333333333333,
              "#9c179e"
             ],
             [
              0.4444444444444444,
              "#bd3786"
             ],
             [
              0.5555555555555556,
              "#d8576b"
             ],
             [
              0.6666666666666666,
              "#ed7953"
             ],
             [
              0.7777777777777778,
              "#fb9f3a"
             ],
             [
              0.8888888888888888,
              "#fdca26"
             ],
             [
              1,
              "#f0f921"
             ]
            ],
            "type": "surface"
           }
          ],
          "table": [
           {
            "cells": {
             "fill": {
              "color": "#EBF0F8"
             },
             "line": {
              "color": "white"
             }
            },
            "header": {
             "fill": {
              "color": "#C8D4E3"
             },
             "line": {
              "color": "white"
             }
            },
            "type": "table"
           }
          ]
         },
         "layout": {
          "annotationdefaults": {
           "arrowcolor": "#2a3f5f",
           "arrowhead": 0,
           "arrowwidth": 1
          },
          "autotypenumbers": "strict",
          "coloraxis": {
           "colorbar": {
            "outlinewidth": 0,
            "ticks": ""
           }
          },
          "colorscale": {
           "diverging": [
            [
             0,
             "#8e0152"
            ],
            [
             0.1,
             "#c51b7d"
            ],
            [
             0.2,
             "#de77ae"
            ],
            [
             0.3,
             "#f1b6da"
            ],
            [
             0.4,
             "#fde0ef"
            ],
            [
             0.5,
             "#f7f7f7"
            ],
            [
             0.6,
             "#e6f5d0"
            ],
            [
             0.7,
             "#b8e186"
            ],
            [
             0.8,
             "#7fbc41"
            ],
            [
             0.9,
             "#4d9221"
            ],
            [
             1,
             "#276419"
            ]
           ],
           "sequential": [
            [
             0,
             "#0d0887"
            ],
            [
             0.1111111111111111,
             "#46039f"
            ],
            [
             0.2222222222222222,
             "#7201a8"
            ],
            [
             0.3333333333333333,
             "#9c179e"
            ],
            [
             0.4444444444444444,
             "#bd3786"
            ],
            [
             0.5555555555555556,
             "#d8576b"
            ],
            [
             0.6666666666666666,
             "#ed7953"
            ],
            [
             0.7777777777777778,
             "#fb9f3a"
            ],
            [
             0.8888888888888888,
             "#fdca26"
            ],
            [
             1,
             "#f0f921"
            ]
           ],
           "sequentialminus": [
            [
             0,
             "#0d0887"
            ],
            [
             0.1111111111111111,
             "#46039f"
            ],
            [
             0.2222222222222222,
             "#7201a8"
            ],
            [
             0.3333333333333333,
             "#9c179e"
            ],
            [
             0.4444444444444444,
             "#bd3786"
            ],
            [
             0.5555555555555556,
             "#d8576b"
            ],
            [
             0.6666666666666666,
             "#ed7953"
            ],
            [
             0.7777777777777778,
             "#fb9f3a"
            ],
            [
             0.8888888888888888,
             "#fdca26"
            ],
            [
             1,
             "#f0f921"
            ]
           ]
          },
          "colorway": [
           "#636efa",
           "#EF553B",
           "#00cc96",
           "#ab63fa",
           "#FFA15A",
           "#19d3f3",
           "#FF6692",
           "#B6E880",
           "#FF97FF",
           "#FECB52"
          ],
          "font": {
           "color": "#2a3f5f"
          },
          "geo": {
           "bgcolor": "white",
           "lakecolor": "white",
           "landcolor": "#E5ECF6",
           "showlakes": true,
           "showland": true,
           "subunitcolor": "white"
          },
          "hoverlabel": {
           "align": "left"
          },
          "hovermode": "closest",
          "mapbox": {
           "style": "light"
          },
          "paper_bgcolor": "white",
          "plot_bgcolor": "#E5ECF6",
          "polar": {
           "angularaxis": {
            "gridcolor": "white",
            "linecolor": "white",
            "ticks": ""
           },
           "bgcolor": "#E5ECF6",
           "radialaxis": {
            "gridcolor": "white",
            "linecolor": "white",
            "ticks": ""
           }
          },
          "scene": {
           "xaxis": {
            "backgroundcolor": "#E5ECF6",
            "gridcolor": "white",
            "gridwidth": 2,
            "linecolor": "white",
            "showbackground": true,
            "ticks": "",
            "zerolinecolor": "white"
           },
           "yaxis": {
            "backgroundcolor": "#E5ECF6",
            "gridcolor": "white",
            "gridwidth": 2,
            "linecolor": "white",
            "showbackground": true,
            "ticks": "",
            "zerolinecolor": "white"
           },
           "zaxis": {
            "backgroundcolor": "#E5ECF6",
            "gridcolor": "white",
            "gridwidth": 2,
            "linecolor": "white",
            "showbackground": true,
            "ticks": "",
            "zerolinecolor": "white"
           }
          },
          "shapedefaults": {
           "line": {
            "color": "#2a3f5f"
           }
          },
          "ternary": {
           "aaxis": {
            "gridcolor": "white",
            "linecolor": "white",
            "ticks": ""
           },
           "baxis": {
            "gridcolor": "white",
            "linecolor": "white",
            "ticks": ""
           },
           "bgcolor": "#E5ECF6",
           "caxis": {
            "gridcolor": "white",
            "linecolor": "white",
            "ticks": ""
           }
          },
          "title": {
           "x": 0.05
          },
          "xaxis": {
           "automargin": true,
           "gridcolor": "white",
           "linecolor": "white",
           "ticks": "",
           "title": {
            "standoff": 15
           },
           "zerolinecolor": "white",
           "zerolinewidth": 2
          },
          "yaxis": {
           "automargin": true,
           "gridcolor": "white",
           "linecolor": "white",
           "ticks": "",
           "title": {
            "standoff": 15
           },
           "zerolinecolor": "white",
           "zerolinewidth": 2
          }
         }
        },
        "xaxis": {
         "anchor": "y",
         "domain": [
          0,
          1
         ],
         "title": {
          "text": "x"
         }
        },
        "yaxis": {
         "anchor": "x",
         "domain": [
          0,
          1
         ],
         "title": {
          "text": "y"
         }
        }
       }
      }
     },
     "metadata": {},
     "output_type": "display_data"
    }
   ],
   "source": [
    "from collections import Counter\n",
    "import plotly.express as px\n",
    "counter = Counter(text)\n",
    "symb, freq = zip(*counter.items())\n",
    "\n",
    "px.bar(x=symb, y=freq, text_auto=True)"
   ]
  },
  {
   "cell_type": "markdown",
   "metadata": {},
   "source": [
    "Очистим от латинских букв цифр и символов, т.к. сгенерировать из них осмысленное слово все равно не получится"
   ]
  },
  {
   "cell_type": "markdown",
   "metadata": {},
   "source": [
    "Put all the characters, that you've seen in the text, into variable `tokens`."
   ]
  },
  {
   "cell_type": "code",
   "execution_count": 7,
   "metadata": {},
   "outputs": [
    {
     "data": {
      "text/plain": [
       "86"
      ]
     },
     "execution_count": 7,
     "metadata": {},
     "output_type": "execute_result"
    }
   ],
   "source": [
    "tokens = sorted(set(text))\n",
    "tokens.append('<') # <SOS>\n",
    "tokens.append('>') # <EOS>\n",
    "tokens.append('_') # <PAD>\n",
    "len(tokens)"
   ]
  },
  {
   "cell_type": "code",
   "execution_count": 8,
   "metadata": {},
   "outputs": [],
   "source": [
    "sos = '<'\n",
    "eos = '>'\n",
    "pad = '_'"
   ]
  },
  {
   "cell_type": "markdown",
   "metadata": {},
   "source": [
    "Create dictionary `token_to_idx = {<char>: <index>}` and dictionary `idx_to_token = {<index>: <char>}`"
   ]
  },
  {
   "cell_type": "code",
   "execution_count": 9,
   "metadata": {
    "collapsed": true
   },
   "outputs": [
    {
     "name": "stdout",
     "output_type": "stream",
     "text": [
      "{'\\n': 0, ' ': 1, '!': 2, '(': 3, ')': 4, ',': 5, '-': 6, '.': 7, '5': 8, '7': 9, '8': 10, '9': 11, ':': 12, ';': 13, '?': 14, '[': 15, ']': 16, '^': 17, 'a': 18, 'b': 19, 'c': 20, 'd': 21, 'e': 22, 'f': 23, 'g': 24, 'h': 25, 'i': 26, 'k': 27, 'l': 28, 'm': 29, 'n': 30, 'o': 31, 'p': 32, 'q': 33, 'r': 34, 's': 35, 't': 36, 'u': 37, 'v': 38, 'w': 39, 'x': 40, 'y': 41, 'z': 42, '«': 43, '»': 44, 'а': 45, 'б': 46, 'в': 47, 'г': 48, 'д': 49, 'е': 50, 'ж': 51, 'з': 52, 'и': 53, 'й': 54, 'к': 55, 'л': 56, 'м': 57, 'н': 58, 'о': 59, 'п': 60, 'р': 61, 'с': 62, 'т': 63, 'у': 64, 'ф': 65, 'х': 66, 'ц': 67, 'ч': 68, 'ш': 69, 'щ': 70, 'ъ': 71, 'ы': 72, 'ь': 73, 'э': 74, 'ю': 75, 'я': 76, 'ё': 77, '–': 78, '—': 79, '’': 80, '…': 81, '€': 82, '<': 83, '>': 84, '_': 85}\n",
      "dict_values(['\\n', ' ', '!', '(', ')', ',', '-', '.', '5', '7', '8', '9', ':', ';', '?', '[', ']', '^', 'a', 'b', 'c', 'd', 'e', 'f', 'g', 'h', 'i', 'k', 'l', 'm', 'n', 'o', 'p', 'q', 'r', 's', 't', 'u', 'v', 'w', 'x', 'y', 'z', '«', '»', 'а', 'б', 'в', 'г', 'д', 'е', 'ж', 'з', 'и', 'й', 'к', 'л', 'м', 'н', 'о', 'п', 'р', 'с', 'т', 'у', 'ф', 'х', 'ц', 'ч', 'ш', 'щ', 'ъ', 'ы', 'ь', 'э', 'ю', 'я', 'ё', '–', '—', '’', '…', '€', '<', '>', '_'])\n"
     ]
    }
   ],
   "source": [
    "# dict <index>:<char>\n",
    "token_to_id = {tok: idx for idx, tok in enumerate(tokens)}\n",
    "print(token_to_id)\n",
    "# dict <char>:<index>\n",
    "id_to_token = {idx: tok for tok, idx in token_to_id.items()}\n",
    "print(id_to_token.values())\n",
    "\n",
    "assert list(id_to_token.keys()) == [idx for tok, idx in token_to_id.items()], 'ощибка в создании словарей'"
   ]
  },
  {
   "cell_type": "code",
   "execution_count": 10,
   "metadata": {},
   "outputs": [
    {
     "name": "stdout",
     "output_type": "stream",
     "text": [
      "57\n",
      "ж\n"
     ]
    }
   ],
   "source": [
    "print(token_to_id['м'])\n",
    "print(id_to_token[51])"
   ]
  },
  {
   "cell_type": "markdown",
   "metadata": {},
   "source": [
    "*Comment: in this task we have only 38 different tokens, so let's use one-hot encoding.*"
   ]
  },
  {
   "cell_type": "markdown",
   "metadata": {},
   "source": [
    "### Building the model"
   ]
  },
  {
   "cell_type": "markdown",
   "metadata": {},
   "source": [
    "Now we want to build and train recurrent neural net which would be able to something similar to Shakespeare's poetry.\n",
    "\n",
    "Let's use vanilla RNN, similar to the one created during the lesson."
   ]
  },
  {
   "cell_type": "code",
   "execution_count": 11,
   "metadata": {
    "collapsed": true
   },
   "outputs": [],
   "source": [
    "import torch\n",
    "from torch import nn\n",
    "import torch.nn.functional as F\n",
    "import numpy as np\n",
    "device = torch.device(\"cuda\" if torch.cuda.is_available() else \"cpu\")"
   ]
  },
  {
   "cell_type": "code",
   "execution_count": 12,
   "metadata": {},
   "outputs": [],
   "source": [
    "def data_to_tensor(sentence: list[str], max_len: int):\n",
    "    sos = '<'\n",
    "    eos = '>'\n",
    "    pad = '_'\n",
    "    sentence_tensor = torch.zeros(len(sentence), max_len, dtype=torch.long, device=device) + token_to_id[pad]\n",
    "    sentence_tensor[:, 0] = token_to_id[sos]\n",
    "\n",
    "    for i, string in enumerate(sentence):\n",
    "        token_tensor = torch.tensor(list(map(token_to_id.get, string)), dtype=torch.long, device=device)\n",
    "        sentence_tensor[i, 1: len(token_tensor) + 1] = token_tensor\n",
    "        sentence_tensor[i, len(token_tensor) + 1] = token_to_id[eos]\n",
    "\n",
    "    return sentence_tensor"
   ]
  },
  {
   "cell_type": "code",
   "execution_count": 13,
   "metadata": {},
   "outputs": [
    {
     "name": "stdout",
     "output_type": "stream",
     "text": [
      "«мой дядя самых честных правил,\n",
      "когда не в шутку занемог,\n",
      "он уважать себя заставил\n",
      "и лучше выдумать не мог.\n",
      "его пример другим наука;\n",
      "но, боже мой, какая скука\n",
      "с больным сидеть и день и ночь,\n",
      "не отходя ни шагу прочь!\n",
      "какое низкое коварство\n",
      "полуживого забавлять,\n",
      "ему подушки поправлять,\n",
      "печально подносить лекарство,\n",
      "вздыхать и думать про себя:\n",
      "когда же черт возьмет тебя!»\n"
     ]
    },
    {
     "data": {
      "text/plain": [
       "tensor([83, 43, 57,  ..., 85, 85, 85], device='cuda:0')"
      ]
     },
     "execution_count": 13,
     "metadata": {},
     "output_type": "execute_result"
    }
   ],
   "source": [
    "print(sentences[0])\n",
    "data_to_tensor(sentences, 2500)[0]"
   ]
  },
  {
   "cell_type": "code",
   "execution_count": 14,
   "metadata": {},
   "outputs": [
    {
     "data": {
      "text/plain": [
       "358"
      ]
     },
     "execution_count": 14,
     "metadata": {},
     "output_type": "execute_result"
    }
   ],
   "source": [
    "len(sentences)"
   ]
  },
  {
   "cell_type": "code",
   "execution_count": 15,
   "metadata": {},
   "outputs": [],
   "source": [
    "class RNN(nn.Module):\n",
    "    def __init__(self, num_tok, emb_size, hidden_size, n_layers=1):\n",
    "        super().__init__()\n",
    "        torch.manual_seed(42)\n",
    "        \n",
    "        self.num_tok = num_tok\n",
    "        self.emb_size = emb_size\n",
    "        self.hidden_size = hidden_size\n",
    "        self.n_layers = n_layers\n",
    "\n",
    "        self.emb = nn.Embedding(num_tok, emb_size)\n",
    "        self.rnn = nn.RNN(emb_size, hidden_size, n_layers, batch_first=True)\n",
    "        self.linear = nn.Linear(hidden_size, num_tok)\n",
    "\n",
    "    def init_hidden(self, batch_size):\n",
    "        return torch.zeros(self.n_layers, batch_size, self.hidden_size, requires_grad=True, device=device)\n",
    "    \n",
    "    def forward(self, input_text, hidden=None):\n",
    "        if hidden is None:\n",
    "            hidden = self.init_hidden(len(input_text))\n",
    "\n",
    "\n",
    "        out_emb = self.emb(input_text)\n",
    "        out_rnn, hidden = self.rnn(out_emb, hidden)\n",
    "        out_x = self.linear(out_rnn)\n",
    "        return out_x, hidden"
   ]
  },
  {
   "cell_type": "code",
   "execution_count": 16,
   "metadata": {},
   "outputs": [],
   "source": [
    "import matplotlib.pyplot as plt\n",
    "from tqdm.notebook import tqdm\n",
    "from IPython.display import clear_output\n",
    "\n",
    "\n",
    "def get_batch(data, batch_size, shuffle=False):\n",
    "    if shuffle:\n",
    "        indices = np.random.permutation(len(data))\n",
    "    for start_idx in tqdm(range(0, len(data) - batch_size + 1, batch_size)):\n",
    "        if shuffle:\n",
    "            excerpt = indices[start_idx:start_idx + batch_size]\n",
    "        else:\n",
    "            excerpt = slice(start_idx, start_idx + batch_size)\n",
    "        yield data[excerpt]"
   ]
  },
  {
   "cell_type": "code",
   "execution_count": 17,
   "metadata": {},
   "outputs": [],
   "source": [
    "def train_epoch(model,\n",
    "                criterion,\n",
    "                optimizer,\n",
    "                data_train: np.ndarray,\n",
    "                batch_size: int = 64):\n",
    "    loss_log = []\n",
    "\n",
    "    model.train()\n",
    "    for data_batch in get_batch(data_train, batch_size=batch_size, shuffle=True):\n",
    "        # Преобразуем data_batch в торч тензор с помощью функции data_to_tensor\n",
    "        data_batch = data_to_tensor(data_batch, max_len).to(device) \n",
    "\n",
    "        # Получаем предсказания модели\n",
    "        output, _ = model(data_batch)\n",
    "\n",
    "        # Вычисляем функцию потерь\n",
    "        loss = criterion(output[:, :-1, :].transpose(1, 2), data_batch[:, 1:])\n",
    "        loss_log.append(loss.item())\n",
    "\n",
    "        # Обнуляем градиенты, используя метод zero_grad() в оптимизаторе\n",
    "        optimizer.zero_grad()\n",
    "\n",
    "        # Производим обратный проход от функции потерь\n",
    "        loss.backward()\n",
    "\n",
    "        # Производим шаг оптимизации\n",
    "        optimizer.step()\n",
    "    return loss_log\n",
    "        \n",
    "        "
   ]
  },
  {
   "cell_type": "code",
   "execution_count": 18,
   "metadata": {},
   "outputs": [],
   "source": [
    "def test_model(model,\n",
    "               criterion,\n",
    "               data_test: np.ndarray,\n",
    "               batch_size: int = 64):\n",
    "    loss_log = []\n",
    "    model.eval()\n",
    "    for data_batch in get_batch(data_test, batch_size=batch_size, shuffle=True):\n",
    "        # Преобразуем data_batch в торч тензор с помощью функции data_to_tensor\n",
    "        data_batch = data_to_tensor(data_batch, max_len).to(device) \n",
    "\n",
    "        # Получаем предсказания модели\n",
    "        output, _ = model(data_batch)\n",
    "\n",
    "        # Вычисляем функцию потерь, используя criterion\n",
    "        loss = criterion(output[:, :-1, :].transpose(1, 2), data_batch[:, 1:])\n",
    "        loss_log.append(loss.item())\n",
    "    return loss_log\n",
    "\n",
    "\n",
    "def plot_history(train_history, val_history, title='loss'):\n",
    "    plt.figure()\n",
    "    plt.title('{}'.format(title))\n",
    "    plt.plot(train_history, label='train', zorder=1)\n",
    "\n",
    "    points = np.array(val_history)\n",
    "\n",
    "    plt.scatter(points[:, 0], points[:, 1], marker='+', s=180, c='orange', label='test', zorder=2)\n",
    "    plt.xlabel('train steps')\n",
    "\n",
    "    plt.legend(loc='best')\n",
    "    plt.grid()\n",
    "\n",
    "    plt.show()"
   ]
  },
  {
   "cell_type": "code",
   "execution_count": 19,
   "metadata": {},
   "outputs": [],
   "source": [
    "def train(model,\n",
    "          criterion,\n",
    "          optimizer,\n",
    "          data_train: np.ndarray,\n",
    "          data_test: np.ndarray,\n",
    "          n_epochs: int = 100,\n",
    "          batch_size: int = 64,\n",
    "          plot: bool = True):\n",
    "    train_log = []\n",
    "    val_log = []\n",
    "\n",
    "    for epoch in range(n_epochs):\n",
    "        print(\"Epoch {} of {}\".format(epoch + 1, n_epochs))\n",
    "        # Вызываем функции обучения модели на одной эпохи и тестирования\n",
    "        train_loss = train_epoch(model, criterion, optimizer, data_train, batch_size)\n",
    "        val_loss = test_model(model, criterion, data_test, batch_size)\n",
    "\n",
    "        train_log.extend(train_loss)\n",
    "\n",
    "        steps = len(data_train) / batch_size\n",
    "        val_log.append((steps * (epoch + 1), np.mean(val_loss)))\n",
    "\n",
    "        clear_output()\n",
    "        if plot:\n",
    "            plot_history(train_log, val_log)\n",
    "        print(\"Epoch {} loss: {:.2}\".format(epoch + 1, val_log[-1][1]))\n",
    "\n",
    "    print(\"Best loss: {:.2}\".format(sorted(val_log, key=lambda x: x[1])[0][1]))"
   ]
  },
  {
   "cell_type": "code",
   "execution_count": 20,
   "metadata": {},
   "outputs": [],
   "source": [
    "from sklearn.model_selection import train_test_split\n",
    "max_len=2500\n",
    "\n",
    "text_train, text_test = train_test_split(np.array(sentences), test_size=0.2)\n"
   ]
  },
  {
   "cell_type": "code",
   "execution_count": 21,
   "metadata": {},
   "outputs": [
    {
     "data": {
      "image/png": "[encoded data removed]",
      "text/plain": [
       "<Figure size 640x480 with 1 Axes>"
      ]
     },
     "metadata": {},
     "output_type": "display_data"
    },
    {
     "name": "stdout",
     "output_type": "stream",
     "text": [
      "Epoch 130 loss: 2.0\n",
      "Best loss: 1.9\n"
     ]
    }
   ],
   "source": [
    "model = RNN(num_tok=len(token_to_id), emb_size=150, hidden_size=500, n_layers=2).to(device)\n",
    "criterion = nn.CrossEntropyLoss(ignore_index=token_to_id[pad])\n",
    "optimizer = torch.optim.Adam(model.parameters(), lr=3e-4)\n",
    "\n",
    "train(model, criterion, optimizer, text_train, text_test, n_epochs=130, batch_size=64)"
   ]
  },
  {
   "cell_type": "markdown",
   "metadata": {},
   "source": [
    "Plot the loss function (axis X: number of epochs, axis Y: loss function)."
   ]
  },
  {
   "cell_type": "code",
   "execution_count": 22,
   "metadata": {
    "collapsed": true
   },
   "outputs": [],
   "source": [
    "def generate_sentence_RNN(model, prime: str = '<', max_length: int = 20, temperature: float = 1.):\n",
    "    prime_tensor = torch.tensor([list(map(token_to_id.get, prime))], dtype=torch.long, device=device)\n",
    "\n",
    "    model.eval()\n",
    "    for _ in range(max_length):\n",
    "        output, _ = model(prime_tensor)\n",
    "\n",
    "        next_prob = F.softmax(output[0, -1, :] / temperature, dim=0).detach().cpu().numpy()\n",
    "        next_id = np.random.choice(len(token_to_id), p=next_prob)\n",
    "\n",
    "        next_token = torch.tensor([[next_id]], dtype=torch.long, device=device)\n",
    "        prime_tensor = torch.cat([prime_tensor, next_token], dim=1)\n",
    "\n",
    "        if next_id == token_to_id[eos]:\n",
    "            break\n",
    "    return ''.join([id_to_token[ti] for ti in prime_tensor.cpu().numpy()[0]])"
   ]
  },
  {
   "cell_type": "code",
   "execution_count": 23,
   "metadata": {},
   "outputs": [
    {
     "name": "stdout",
     "output_type": "stream",
     "text": [
      "temperature = 0.1\n",
      "\t <в сердце в сердце го\n",
      "\t <но в ней не полно с \n",
      "\t <но в ней не после та\n",
      "\t <но в ней не полно с \n",
      "\t <но в сердце в сердце\n",
      "\t <он при своей долго с\n",
      "\t <но в ней не после те\n",
      "\t <и всё девиц он он пр\n",
      "\n",
      "\n",
      "temperature = 0.4\n",
      "\t <она страсти моей соб\n",
      "\t <татьяна с ней запет \n",
      "\t <но в посторой запет \n",
      "\t <он приходит она друз\n",
      "\t <татьяна полно, как н\n",
      "\t <и всё в нем он сердц\n",
      "\t <он может был в тепер\n",
      "\t <и все девели в после\n",
      "\n",
      "\n",
      "temperature = 0.5\n",
      "\t <старит старини всё ж\n",
      "\t <он в страстей на сто\n",
      "\t <но был был с нам отн\n",
      "\t <моей нестолых ленски\n",
      "\t <уж не вошет оставить\n",
      "\t <до печальные полно в\n",
      "\t <он от не знаю меня п\n",
      "\t <он сердце мертвой де\n",
      "\n",
      "\n",
      "temperature = 0.6\n",
      "\t <и тайных приновленны\n",
      "\t <он угрядной береспет\n",
      "\t <но и татьяна спесных\n",
      "\t <он при верца твердос\n",
      "\t <за ней невознаком ст\n",
      "\t <не можел я нем не хо\n",
      "\t <как не странти страс\n",
      "\t <и ничего полонит сем\n",
      "\n",
      "\n",
      "temperature = 1\n",
      "\t <он без рожит ленский\n",
      "\t <он попленнил готов с\n",
      "\t <с ядинит однах оне в\n",
      "\t <котьчут виду моец ут\n",
      "\t <«не встреженственниц\n",
      "\t <при дуком нездорям к\n",
      "\t <тот чер вашл ее нест\n",
      "\t <любовь, и любодно, к\n",
      "\n",
      "\n",
      "temperature = 1.5\n",
      "\t <час доволжа радничко\n",
      "\t <хняти… шнаo о ца же \n",
      "\t <но из гичахом, и бле\n",
      "\t <еча\n",
      "дкоряще до егли \n",
      "\t <торzань татьяничноя,\n",
      "\t <че оay хlбоь. ъично.\n",
      "\t <пещий? упал ныл гутр\n",
      "\t <когду ъв«бы егою бли\n",
      "\n",
      "\n",
      "temperature = 2\n",
      "\t <он об. жа рпошь горе\n",
      "\t <и молыч, будур: хлыб\n",
      "\t <листsей:>\n",
      "\t <vме; нескожбй еруш е\n",
      "\t <на этэрувия’ бледивn\n",
      "\t <и чтеr ющея вдохн—ул\n",
      "\t <майткаю дубы5 дме де\n",
      "\t <дриаoq госnдxши:)7 г\n",
      "\n",
      "\n",
      "temperature = 5\n",
      "\t <ы(;…тvоsхнhpт:ыкsш[ы\n",
      "\t <д«ихуачлжcb…,й_…;w€a\n",
      "\t <?ъ ф’8дt мteч^y -aа5\n",
      "\t <,b’–i?«иeдь?\n",
      "пkиэюс5\n",
      "\t <ищщ]эеy»vнg лсляяp_e\n",
      "\t <ауtb?]biц)pgы fьадою\n",
      "\t <«к?-дпd8э]шнxе!ьш–u_\n",
      "\t <>\n",
      "\n",
      "\n"
     ]
    }
   ],
   "source": [
    "for temperature in [0.1, 0.4, 0.5, 0.6, 1, 1.5, 2, 5]:\n",
    "    print(f'temperature = {temperature}')\n",
    "    for _ in range(8):\n",
    "        print('\\t', generate_sentence_RNN(model, prime='<', temperature=temperature))\n",
    "    print('\\n')\n",
    "    "
   ]
  },
  {
   "cell_type": "markdown",
   "metadata": {},
   "source": [
    "При температуре 0.1 текст каждой строчкой выдает самое вероятное слово на следуующем шаге, на температурах близким к 1 - неразборчивый текст. оптимум получился на температурах 0.3-0.5.  С увеличением температуры текст меньше становится похожим на исходный текст и все больше начинает придумывать новые слова"
   ]
  },
  {
   "cell_type": "code",
   "execution_count": 24,
   "metadata": {},
   "outputs": [],
   "source": [
    "def generate_sample_RNN(char_rnn,\n",
    "                    seed_phrase='Онегин',\n",
    "                    max_length=2500,\n",
    "                    temperature=1.0):\n",
    "    \n",
    "    x_sequence = [token_to_id[t] for t in seed_phrase]\n",
    "    x_sequence = torch.tensor([x_sequence], dtype=torch.long, device=device)   \n",
    "\n",
    "    hid_state = char_rnn.init_hidden(batch_size=1)              \n",
    "\n",
    "    for t in range(x_sequence.size(1) - 1):\n",
    "        _, hid_state = char_rnn(x_sequence[:, t:t+1], hid_state)  \n",
    "\n",
    "    for _ in range(max_length - len(seed_phrase)):\n",
    "        logits, hid_state = char_rnn(x_sequence[:, -1:], hid_state)  \n",
    "        logits = logits[:, -1, :] / temperature                    \n",
    "\n",
    "        p_next = torch.softmax(logits, dim=-1).squeeze().cpu().detach().numpy()\n",
    "\n",
    "        next_ix = np.random.choice(len(tokens), p=p_next)\n",
    "        next_ix_t = torch.tensor([[next_ix]], dtype=torch.long,device=device)     \n",
    "\n",
    "        x_sequence = torch.cat([x_sequence, next_ix_t], dim=1)\n",
    "\n",
    "        if tokens[next_ix] == '>':       # остановка по EOS\n",
    "            break\n",
    "\n",
    "    return ''.join(tokens[ix] for ix in x_sequence.squeeze().tolist())\n"
   ]
  },
  {
   "cell_type": "code",
   "execution_count": 25,
   "metadata": {},
   "outputs": [
    {
     "name": "stdout",
     "output_type": "stream",
     "text": [
      "<цветы, любовь, деревня, праздность, поля! я предан вам душой\n",
      "она в том с нем он перед ней\n",
      "не полет и страстей не стари,\n",
      "и весно в сердце грустной старины\n",
      "и все дева порой старин,\n",
      "и страсти молодой старины,\n",
      "и в старой старины простила\n",
      "и всё деверный и посторой\n",
      "и старине привет порой\n",
      "в сердце не полет и том,\n",
      "и в сердце в посторой страна,\n",
      "в том с ней не света не света\n",
      "пред ним сердце горов она.>\n"
     ]
    }
   ],
   "source": [
    "# An example of generated text.\n",
    "# print(generate_text(length=500, temperature=0.2))\n",
    "result = generate_sample_RNN(model, seed_phrase='<цветы, любовь, деревня, праздность, поля! я предан вам душой\\n', max_length= 2500, temperature=0.2)\n",
    "ind = result.find('>')\n",
    "print(result[0: ind+1])"
   ]
  },
  {
   "cell_type": "code",
   "execution_count": 26,
   "metadata": {},
   "outputs": [],
   "source": [
    "import torch, torch.backends.cudnn as cudnn\n",
    "del model                   \n",
    "del optimizer, criterion    \n",
    "torch.cuda.empty_cache()\n",
    "torch.cuda.ipc_collect() \n",
    "torch.use_deterministic_algorithms(False) \n",
    "cudnn.deterministic = False\n",
    "cudnn.benchmark     = True "
   ]
  },
  {
   "cell_type": "markdown",
   "metadata": {},
   "source": [
    "### More poetic model\n",
    "\n",
    "Let's use LSTM instead of vanilla RNN and compare the results."
   ]
  },
  {
   "cell_type": "code",
   "execution_count": 27,
   "metadata": {},
   "outputs": [],
   "source": [
    "class LSTM(nn.Module):\n",
    "    def __init__(self, num_tok, emb_size, hidden_size, n_layers=1):\n",
    "        super().__init__()\n",
    "        torch.manual_seed(42)\n",
    "\n",
    "        self.num_tok = num_tok\n",
    "        self.emb_size = emb_size\n",
    "        self.hidden_size = hidden_size\n",
    "        self.n_layers = n_layers\n",
    "        # self.drop_share = drop_share\n",
    "\n",
    "        self.emb = nn.Embedding(num_tok, emb_size)\n",
    "        self.drop = nn.Dropout(0.5) \n",
    "        self.rnn = nn.LSTM(emb_size, hidden_size, n_layers, batch_first=True, dropout=0.5)\n",
    "        # self.rnn = nn.LSTM(emb_size, hidden_size, n_layers, batch_first=True)\n",
    "        self.linear = nn.Linear(hidden_size, num_tok)\n",
    "        \n",
    "\n",
    "    def init_hidden(self, batch_size):\n",
    "        # h0 и c0: (n_layers, batch, hidden_size)\n",
    "        h0 = torch.zeros(self.n_layers, batch_size, self.hidden_size,\n",
    "                         device=self.emb.weight.device)\n",
    "        c0 = torch.zeros_like(h0)\n",
    "        return (h0, c0)\n",
    "    \n",
    "    def forward(self, input_text, hidden=None):\n",
    "        if hidden is None:\n",
    "            hidden = self.init_hidden(len(input_text))\n",
    "\n",
    "\n",
    "        out_emb = self.drop(self.emb(input_text)) \n",
    "        out_rnn, hidden = self.rnn(out_emb, hidden)\n",
    "        out_x = self.linear(out_rnn)\n",
    "        return out_x, hidden"
   ]
  },
  {
   "cell_type": "code",
   "execution_count": 28,
   "metadata": {},
   "outputs": [
    {
     "data": {
      "image/png": "[encoded data removed]",
      "text/plain": [
       "<Figure size 640x480 with 1 Axes>"
      ]
     },
     "metadata": {},
     "output_type": "display_data"
    },
    {
     "name": "stdout",
     "output_type": "stream",
     "text": [
      "Epoch 40 loss: 1.8\n",
      "Best loss: 1.8\n"
     ]
    }
   ],
   "source": [
    "lstm = LSTM(num_tok=len(token_to_id), emb_size=300, hidden_size=900, n_layers=1).to(device)\n",
    "criterion = nn.CrossEntropyLoss(ignore_index=token_to_id[pad])\n",
    "optimizer = torch.optim.Adam(lstm.parameters(), lr=2.3e-3)\n",
    "\n",
    "train(lstm, criterion, optimizer, text_train, text_test, n_epochs=40, batch_size=64)"
   ]
  },
  {
   "cell_type": "markdown",
   "metadata": {},
   "source": [
    "Модель LSTM замедно охотнее сходится к ошибке loss=1.9 чем ванильная RNN(которая получает loss=1.9 только когда зарандомит) и требует меньше эпох для схождения. Но несколько часов проб и ошибок и мне удалось подобрать параметры и обучить LSTM с меньшей ошибкой чем RNN (loss=1.8)"
   ]
  },
  {
   "cell_type": "markdown",
   "metadata": {},
   "source": [
    "Plot the loss function of the number of epochs. Does the final loss become better?"
   ]
  },
  {
   "cell_type": "code",
   "execution_count": 29,
   "metadata": {},
   "outputs": [],
   "source": [
    "def generate_sample_LSTM(char_rnn,\n",
    "                    seed_phrase='Онегин',\n",
    "                    max_length=2500,\n",
    "                    temperature=1.0):\n",
    "    \n",
    "\n",
    "    x_sequence = [token_to_id[t] for t in seed_phrase]\n",
    "    x_sequence = torch.tensor([x_sequence], dtype=torch.long, device=device)  \n",
    "\n",
    "    hid_state = char_rnn.init_hidden(batch_size=1)             \n",
    "\n",
    "    for t in range(x_sequence.size(1) - 1):\n",
    "        _, hid_state = char_rnn(x_sequence[:, t:t+1], hid_state)  \n",
    "\n",
    "    \n",
    "    for _ in range(max_length - len(seed_phrase)):\n",
    "        logits, hid_state = char_rnn(x_sequence[:, -1:], hid_state) \n",
    "        logits = logits[:, -1, :] / temperature                    \n",
    "\n",
    "        p_next = torch.softmax(logits, dim=-1).squeeze().cpu().detach().numpy()\n",
    "\n",
    "        next_ix = np.random.choice(len(tokens), p=p_next)\n",
    "        next_ix_t = torch.tensor([[next_ix]], dtype=torch.long,device=device)      \n",
    "\n",
    "        x_sequence = torch.cat([x_sequence, next_ix_t], dim=1)\n",
    "\n",
    "        if tokens[next_ix] == '>':       # остановка по EOS\n",
    "            break\n",
    "\n",
    "   \n",
    "    return ''.join(tokens[ix] for ix in x_sequence.squeeze().tolist())\n"
   ]
  },
  {
   "cell_type": "code",
   "execution_count": 30,
   "metadata": {},
   "outputs": [
    {
     "name": "stdout",
     "output_type": "stream",
     "text": [
      "<цветы, любовь, деревня, праздность, поля! я предан вам душой\n",
      "он просто в ней на воле последной\n",
      "в сей не свои молчаливой,\n",
      "не встретить в таня полный друг,\n",
      "под ним онегин с ним она\n",
      "и в самом деревню в санях\n",
      "простой страсти молодой,\n",
      "в семьем от него не видит,\n",
      "и все долго с ним она в своей.>\n"
     ]
    }
   ],
   "source": [
    "# An example of generated text.\n",
    "# print(generate_text(length=500, temperature=0.2))\n",
    "result = generate_sample_LSTM(lstm, seed_phrase='<цветы, любовь, деревня, праздность, поля! я предан вам душой\\n', max_length= 2500, temperature=0.2)\n",
    "ind = result.find('>')\n",
    "print(result[0: ind+1])"
   ]
  },
  {
   "cell_type": "code",
   "execution_count": 31,
   "metadata": {
    "collapsed": true
   },
   "outputs": [],
   "source": [
    "# Your beautiful code here"
   ]
  },
  {
   "cell_type": "markdown",
   "metadata": {},
   "source": [
    "Generate text using the trained net with different `temperature` parameter: `[0.1, 0.2, 0.5, 1.0, 2.0]`.\n",
    "\n",
    "Evaluate the results visually, try to interpret them."
   ]
  },
  {
   "cell_type": "code",
   "execution_count": 32,
   "metadata": {
    "collapsed": true
   },
   "outputs": [],
   "source": [
    "def generate_sentence_LSTM(model,\n",
    "                      prime: str = '<',\n",
    "                      max_length: int = 20,\n",
    "                      temperature: float = 1.0):\n",
    "    \n",
    "    model.eval()\n",
    "\n",
    "    # подготовим вход \n",
    "    prime_idx = [token_to_id[c] for c in prime]\n",
    "    x = torch.tensor([prime_idx], dtype=torch.long, device=device)       \n",
    "\n",
    "    # инициализируем скрытое состояние (hx, cx)\n",
    "    h = torch.zeros(model.n_layers, 1, model.hidden_size, device=device)\n",
    "    c = torch.zeros_like(h)\n",
    "\n",
    "    # 'скармливаем' все символы seed‑фразы, кроме последнего \n",
    "    if x.size(1) > 1:\n",
    "        _, (h, c) = model(x[:, :-1], (h, c))\n",
    "\n",
    "   \n",
    "    for _ in range(max_length - len(prime)):\n",
    "        logits, (h, c) = model(x[:, -1:], (h, c))     \n",
    "        logits = logits[:, -1] / temperature          \n",
    "\n",
    "        probs = torch.softmax(logits, dim=-1).squeeze().detach().cpu().numpy()\n",
    "        next_id = np.random.choice(len(token_to_id), p=probs)\n",
    "\n",
    "      \n",
    "        x = torch.cat([x, torch.tensor([[next_id]], device=device)], dim=1)\n",
    "\n",
    "        if next_id == token_to_id[eos]:\n",
    "            break\n",
    "\n",
    "    return ''.join(id_to_token[i] for i in x.squeeze().tolist())\n"
   ]
  },
  {
   "cell_type": "code",
   "execution_count": 37,
   "metadata": {},
   "outputs": [
    {
     "name": "stdout",
     "output_type": "stream",
     "text": [
      "temperature = 0.1\n",
      "\t <но в ней на столом \n",
      "\t <но вот уж не привыч\n",
      "\t <он мне приятно в са\n",
      "\n",
      "\n",
      "temperature = 0.2\n",
      "\t <но в самом деленный\n",
      "\t <но в ней сердце в н\n",
      "\t <привычка в самом ду\n",
      "\n",
      "\n",
      "temperature = 0.5\n",
      "\t <он проздный и друг \n",
      "\t <и полны, был так же\n",
      "\t <но поседе странный \n",
      "\n",
      "\n",
      "temperature = 1\n",
      "\t <но яжокая чай бега,\n",
      "\t <его мышля мых и наш\n",
      "\t <и слезы и брегникец\n",
      "\n",
      "\n",
      "temperature = 2\n",
      "\t <пушек, хлюдвят, кто\n",
      "\t <«свокто не знатов л\n",
      "\t <zи ще жизнь (ха;p; \n",
      "\n",
      "\n"
     ]
    }
   ],
   "source": [
    "for temperature in [0.1, 0.2, 0.5, 1, 2]:\n",
    "    print(f'temperature = {temperature}')\n",
    "    for _ in range(3):\n",
    "        print('\\t', generate_sentence_LSTM(lstm, prime='<', temperature=temperature))\n",
    "    print('\\n')\n",
    "    "
   ]
  },
  {
   "cell_type": "markdown",
   "metadata": {},
   "source": [
    "### Saving and loading models"
   ]
  },
  {
   "cell_type": "code",
   "execution_count": 34,
   "metadata": {},
   "outputs": [],
   "source": [
    "with open(f\"saved_model.pth\", \"wb\") as fp:\n",
    "                 torch.save(lstm.state_dict(), fp)"
   ]
  },
  {
   "cell_type": "code",
   "execution_count": 35,
   "metadata": {},
   "outputs": [],
   "source": [
    "with open(\"saved_model.pth\", \"rb\") as fp:\n",
    "    best_state_dict = torch.load(fp, map_location=\"cpu\")\n",
    "    lstm.load_state_dict(best_state_dict)"
   ]
  },
  {
   "cell_type": "code",
   "execution_count": 36,
   "metadata": {},
   "outputs": [
    {
     "name": "stdout",
     "output_type": "stream",
     "text": [
      "\t <летел, устал, спала разлуков\n",
      "и предостного писать она.>\n"
     ]
    }
   ],
   "source": [
    "\n",
    "print('\\t', generate_sentence_LSTM(lstm, prime='<летел, устал, спал', max_length= 500, temperature=0.4))"
   ]
  },
  {
   "cell_type": "markdown",
   "metadata": {},
   "source": [
    "### References\n",
    "1. <a href='http://karpathy.github.io/2015/05/21/rnn-effectiveness/'> Andrew Karpathy blog post about RNN. </a> \n",
    "There are several examples of genration: Shakespeare texts, Latex formulas, Linux Sourse Code and children names.\n",
    "2. <a href='https://github.com/karpathy/char-rnn'> Repo with char-rnn code </a>\n",
    "3. Cool repo with PyTorch examples: [link](https://github.com/spro/practical-pytorch)"
   ]
  }
 ],
 "metadata": {
  "anaconda-cloud": {},
  "kernelspec": {
   "display_name": "Python 3",
   "language": "python",
   "name": "python3"
  },
  "language_info": {
   "codemirror_mode": {
    "name": "ipython",
    "version": 3
   },
   "file_extension": ".py",
   "mimetype": "text/x-python",
   "name": "python",
   "nbconvert_exporter": "python",
   "pygments_lexer": "ipython3",
   "version": "3.11.4"
  }
 },
 "nbformat": 4,
 "nbformat_minor": 2
}
