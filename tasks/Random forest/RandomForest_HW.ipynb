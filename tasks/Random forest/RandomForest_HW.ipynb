{
 "cells": [
  {
   "cell_type": "code",
   "execution_count": 1,
   "id": "f7e71cb7",
   "metadata": {},
   "outputs": [],
   "source": [
    "import pandas as pd\n",
    "import numpy as np\n",
    "import seaborn as sns\n",
    "import matplotlib.pyplot as plt\n",
    "\n",
    "from sklearn.preprocessing import StandardScaler\n",
    "from sklearn.preprocessing import LabelEncoder\n",
    "from sklearn.preprocessing import OrdinalEncoder\n",
    "from sklearn.model_selection import train_test_split\n",
    "from sklearn.model_selection import GridSearchCV\n",
    "\n",
    "from sklearn.tree import DecisionTreeClassifier\n",
    "from sklearn.tree import DecisionTreeRegressor\n",
    "from sklearn.ensemble import RandomForestClassifier\n",
    "from sklearn.ensemble import RandomForestRegressor\n",
    "\n",
    "from sklearn import tree\n",
    "\n",
    "from sklearn.metrics import (root_mean_squared_error,\n",
    "                             accuracy_score)\n"
   ]
  },
  {
   "cell_type": "markdown",
   "id": "244f4b33",
   "metadata": {},
   "source": [
    "# Task 1 #\n",
    "\n",
    "Целевой признак popularity.\n",
    "\n",
    "    Считайте данные через pandas\n",
    "\n",
    "    Сделайте разбиение на обучение и тест с соотношением 80/20 и random_state=1.\n",
    "\n",
    "    Обучите дерево решений для задачи на базовых параметрах с фиксированным random_state=1 и посчитайте метрику RMSE на тренировочной и тестовой выборках.\n",
    "\n",
    "    Обучите случайный лес для задачи на базовых параметрах с фиксированным random_state=1 и посчитайте метрику RMSE на тренировочной и тестовой выборках.\n",
    "\n",
    "Укажите, на сколько метрика на тесте на случайном лесу лучше, чем на дереве решений, округлив до второго знака после точки."
   ]
  },
  {
   "cell_type": "code",
   "execution_count": 2,
   "id": "3d4c438a",
   "metadata": {},
   "outputs": [
    {
     "data": {
      "text/html": [
       "<div>\n",
       "<style scoped>\n",
       "    .dataframe tbody tr th:only-of-type {\n",
       "        vertical-align: middle;\n",
       "    }\n",
       "\n",
       "    .dataframe tbody tr th {\n",
       "        vertical-align: top;\n",
       "    }\n",
       "\n",
       "    .dataframe thead th {\n",
       "        text-align: right;\n",
       "    }\n",
       "</style>\n",
       "<table border=\"1\" class=\"dataframe\">\n",
       "  <thead>\n",
       "    <tr style=\"text-align: right;\">\n",
       "      <th></th>\n",
       "      <th>popularity</th>\n",
       "      <th>duration_ms</th>\n",
       "      <th>explicit</th>\n",
       "      <th>danceability</th>\n",
       "      <th>energy</th>\n",
       "      <th>key</th>\n",
       "      <th>loudness</th>\n",
       "      <th>mode</th>\n",
       "      <th>speechiness</th>\n",
       "      <th>acousticness</th>\n",
       "      <th>instrumentalness</th>\n",
       "      <th>liveness</th>\n",
       "      <th>valence</th>\n",
       "      <th>tempo</th>\n",
       "      <th>time_signature</th>\n",
       "      <th>track_genre</th>\n",
       "    </tr>\n",
       "  </thead>\n",
       "  <tbody>\n",
       "    <tr>\n",
       "      <th>0</th>\n",
       "      <td>77</td>\n",
       "      <td>230613</td>\n",
       "      <td>False</td>\n",
       "      <td>0.509</td>\n",
       "      <td>0.448</td>\n",
       "      <td>4</td>\n",
       "      <td>-7.552</td>\n",
       "      <td>0</td>\n",
       "      <td>0.0357</td>\n",
       "      <td>0.00713</td>\n",
       "      <td>0.013700</td>\n",
       "      <td>0.2440</td>\n",
       "      <td>0.221</td>\n",
       "      <td>156.909</td>\n",
       "      <td>3</td>\n",
       "      <td>0.0</td>\n",
       "    </tr>\n",
       "    <tr>\n",
       "      <th>1</th>\n",
       "      <td>79</td>\n",
       "      <td>208760</td>\n",
       "      <td>False</td>\n",
       "      <td>0.636</td>\n",
       "      <td>0.676</td>\n",
       "      <td>2</td>\n",
       "      <td>-3.442</td>\n",
       "      <td>1</td>\n",
       "      <td>0.0263</td>\n",
       "      <td>0.08070</td>\n",
       "      <td>0.000000</td>\n",
       "      <td>0.0831</td>\n",
       "      <td>0.273</td>\n",
       "      <td>113.980</td>\n",
       "      <td>4</td>\n",
       "      <td>0.0</td>\n",
       "    </tr>\n",
       "    <tr>\n",
       "      <th>2</th>\n",
       "      <td>76</td>\n",
       "      <td>180690</td>\n",
       "      <td>False</td>\n",
       "      <td>0.573</td>\n",
       "      <td>0.539</td>\n",
       "      <td>2</td>\n",
       "      <td>-6.091</td>\n",
       "      <td>0</td>\n",
       "      <td>0.0322</td>\n",
       "      <td>0.01620</td>\n",
       "      <td>0.000012</td>\n",
       "      <td>0.1050</td>\n",
       "      <td>0.390</td>\n",
       "      <td>75.012</td>\n",
       "      <td>4</td>\n",
       "      <td>0.0</td>\n",
       "    </tr>\n",
       "    <tr>\n",
       "      <th>3</th>\n",
       "      <td>84</td>\n",
       "      <td>232106</td>\n",
       "      <td>False</td>\n",
       "      <td>0.743</td>\n",
       "      <td>0.446</td>\n",
       "      <td>4</td>\n",
       "      <td>-7.807</td>\n",
       "      <td>0</td>\n",
       "      <td>0.0683</td>\n",
       "      <td>0.00390</td>\n",
       "      <td>0.118000</td>\n",
       "      <td>0.3370</td>\n",
       "      <td>0.278</td>\n",
       "      <td>123.596</td>\n",
       "      <td>4</td>\n",
       "      <td>0.0</td>\n",
       "    </tr>\n",
       "    <tr>\n",
       "      <th>4</th>\n",
       "      <td>76</td>\n",
       "      <td>225026</td>\n",
       "      <td>False</td>\n",
       "      <td>0.572</td>\n",
       "      <td>0.214</td>\n",
       "      <td>7</td>\n",
       "      <td>-15.625</td>\n",
       "      <td>1</td>\n",
       "      <td>0.0293</td>\n",
       "      <td>0.64900</td>\n",
       "      <td>0.129000</td>\n",
       "      <td>0.1250</td>\n",
       "      <td>0.485</td>\n",
       "      <td>95.542</td>\n",
       "      <td>4</td>\n",
       "      <td>0.0</td>\n",
       "    </tr>\n",
       "  </tbody>\n",
       "</table>\n",
       "</div>"
      ],
      "text/plain": [
       "   popularity  duration_ms  explicit  danceability  energy  key  loudness  \\\n",
       "0          77       230613     False         0.509   0.448    4    -7.552   \n",
       "1          79       208760     False         0.636   0.676    2    -3.442   \n",
       "2          76       180690     False         0.573   0.539    2    -6.091   \n",
       "3          84       232106     False         0.743   0.446    4    -7.807   \n",
       "4          76       225026     False         0.572   0.214    7   -15.625   \n",
       "\n",
       "   mode  speechiness  acousticness  instrumentalness  liveness  valence  \\\n",
       "0     0       0.0357       0.00713          0.013700    0.2440    0.221   \n",
       "1     1       0.0263       0.08070          0.000000    0.0831    0.273   \n",
       "2     0       0.0322       0.01620          0.000012    0.1050    0.390   \n",
       "3     0       0.0683       0.00390          0.118000    0.3370    0.278   \n",
       "4     1       0.0293       0.64900          0.129000    0.1250    0.485   \n",
       "\n",
       "     tempo  time_signature  track_genre  \n",
       "0  156.909               3          0.0  \n",
       "1  113.980               4          0.0  \n",
       "2   75.012               4          0.0  \n",
       "3  123.596               4          0.0  \n",
       "4   95.542               4          0.0  "
      ]
     },
     "execution_count": 2,
     "metadata": {},
     "output_type": "execute_result"
    }
   ],
   "source": [
    "data = pd.read_csv('./music_prepared.csv')\n",
    "data.head()"
   ]
  },
  {
   "cell_type": "code",
   "execution_count": 3,
   "id": "1b6931af",
   "metadata": {},
   "outputs": [
    {
     "data": {
      "text/plain": [
       "(5000, 16)"
      ]
     },
     "execution_count": 3,
     "metadata": {},
     "output_type": "execute_result"
    }
   ],
   "source": [
    "data.shape"
   ]
  },
  {
   "cell_type": "code",
   "execution_count": 4,
   "id": "1583d6ae",
   "metadata": {},
   "outputs": [],
   "source": [
    "X_train, X_test, y_train, y_test = train_test_split(data.iloc[:,1:], data.iloc[:,0], test_size=0.2, random_state=1)"
   ]
  },
  {
   "cell_type": "code",
   "execution_count": null,
   "id": "21c3f814",
   "metadata": {},
   "outputs": [
    {
     "name": "stdout",
     "output_type": "stream",
     "text": [
      "mse дерева для тренирочоного/теста = 4.501/29.990\n"
     ]
    }
   ],
   "source": [
    "tree_reg = DecisionTreeRegressor(random_state=1)\n",
    "tree_reg.fit(X_train, y_train)\n",
    "\n",
    "tree_mse_train = root_mean_squared_error(y_train , tree_reg.predict(X_train))\n",
    "tree_mse_test = root_mean_squared_error(y_test , tree_reg.predict(X_test))\n",
    "print(f'rmse дерева для тренирочоного/теста = {tree_mse_train:.3f}/{tree_mse_test:.3f}')\n"
   ]
  },
  {
   "cell_type": "code",
   "execution_count": null,
   "id": "409df6e5",
   "metadata": {},
   "outputs": [
    {
     "name": "stdout",
     "output_type": "stream",
     "text": [
      "mse леса для тренирочоного/теста = 9.181/22.776\n"
     ]
    }
   ],
   "source": [
    "forest_reg = RandomForestRegressor(random_state=1)\n",
    "forest_reg.fit(X_train, y_train)\n",
    "forest_mse_train = root_mean_squared_error(y_train , forest_reg.predict(X_train))\n",
    "forest_mse_test = root_mean_squared_error(y_test , forest_reg.predict(X_test))\n",
    "print(f'rmse леса для тренирочоного/теста = {forest_mse_train:.3f}/{forest_mse_test:.3f}')"
   ]
  },
  {
   "cell_type": "markdown",
   "id": "da0e07fa",
   "metadata": {},
   "source": [
    "Answer 1:"
   ]
  },
  {
   "cell_type": "code",
   "execution_count": 7,
   "id": "8441e1e4",
   "metadata": {},
   "outputs": [
    {
     "name": "stdout",
     "output_type": "stream",
     "text": [
      "7.2137794461624765\n"
     ]
    }
   ],
   "source": [
    "print(tree_mse_test-forest_mse_test)"
   ]
  },
  {
   "cell_type": "markdown",
   "id": "d820746c",
   "metadata": {},
   "source": [
    "# Task 2 #\n",
    "\n",
    "Продолжайте работать с датасетом музыкальных композиций.\n",
    "\n",
    "У модели случайный лес оставьте параметр random_state=1. Измените глубину деревьев от 1 до 50 с шагом 3.\n",
    "\n",
    "Визуализируйте изменение ошибки RMSE на тренировочной и тестовой выборках от параметра глубины.\n",
    "\n",
    "Выберите правильный вывод:\n",
    "\n",
    "Выберите один ответ:\n",
    "\n",
    "    Увеличение до разумных пределов параметра max_depth в случайном лесу ухудшает качество модели\n",
    "\n",
    "    Параметр max_depth не влияет на качество случайного леса\n",
    "\n",
    "    Увеличение до разумных пределов параметра max_depth в случайном лесу улучшает качество модели "
   ]
  },
  {
   "cell_type": "code",
   "execution_count": 8,
   "id": "a42da788",
   "metadata": {},
   "outputs": [
    {
     "name": "stdout",
     "output_type": "stream",
     "text": [
      "трен/тест: 27.739964214326466/28.423178535774095\n",
      "трен/тест: 25.88957932415597/26.92744116777383\n",
      "трен/тест: 22.414372793563878/25.09489381422921\n",
      "трен/тест: 17.331512708230484/23.472832490702253\n",
      "трен/тест: 12.881123997631937/22.86853230126138\n",
      "трен/тест: 10.460286725679994/22.8123492607095\n",
      "трен/тест: 9.540142790696363/22.770908779637114\n",
      "трен/тест: 9.289770384406573/22.727953211233004\n",
      "трен/тест: 9.209104584150818/22.765200148267606\n",
      "трен/тест: 9.179453252988434/22.73740443901832\n",
      "трен/тест: 9.175711037367138/22.75810244165109\n",
      "трен/тест: 9.178855631749856/22.77211122176202\n",
      "трен/тест: 9.181086673947888/22.775863029124782\n",
      "трен/тест: 9.181086673947888/22.775863029124782\n",
      "трен/тест: 9.181086673947888/22.775863029124782\n",
      "трен/тест: 9.181086673947888/22.775863029124782\n",
      "трен/тест: 9.181086673947888/22.775863029124785\n"
     ]
    },
    {
     "data": {
      "text/plain": [
       "Text(0.5, 0, 'depth')"
      ]
     },
     "execution_count": 8,
     "metadata": {},
     "output_type": "execute_result"
    },
    {
     "data": {
      "image/png": "[encoded data removed]",
      "text/plain": [
       "<Figure size 1000x600 with 1 Axes>"
      ]
     },
     "metadata": {},
     "output_type": "display_data"
    }
   ],
   "source": [
    "depth_range = range(1, 51, 3)\n",
    "\n",
    "mse_train_list22 = []\n",
    "mse_test_list22 = []\n",
    "\n",
    "for depth in depth_range:\n",
    "    regressor = RandomForestRegressor(random_state=1, max_depth=depth, n_jobs=-1)\n",
    "    regressor.fit(X_train, y_train)\n",
    "\n",
    "    mse_train22 = root_mean_squared_error(y_train , regressor.predict(X_train))\n",
    "    mse_test22 = root_mean_squared_error(y_test , regressor.predict(X_test))\n",
    "    mse_train_list22.append(mse_train22)\n",
    "    mse_test_list22.append(mse_test22)\n",
    "\n",
    "    print(f'трен/тест: {mse_train22}/{mse_test22}')\n",
    "\n",
    "\n",
    "plt.figure(figsize=(10,6))\n",
    "plt.plot(depth_range, mse_train_list22, color='red')\n",
    "plt.plot(depth_range, mse_test_list22, color='green')\n",
    "plt.ylabel('mse')\n",
    "plt.xlabel('depth')"
   ]
  },
  {
   "cell_type": "markdown",
   "id": "39288f63",
   "metadata": {},
   "source": [
    "Answer 2:\n",
    "\n",
    "    Увеличение до разумных пределов параметра max_depth в случайном лесу улучшает качество модели"
   ]
  },
  {
   "cell_type": "markdown",
   "id": "137c18f1",
   "metadata": {},
   "source": [
    "# Task 3 #\n",
    "\n",
    "Продолжайте работать с датасетом музыкальных композиций.\n",
    "\n",
    "\n",
    "Давайте снова перейдем к задаче бинарной классификации (популярная песня/не популярная песня), для этого нужно перевести целевой признак popularity в бинарный вид:\n",
    "\n",
    "Если признак popularity больше 50 - 1 класс\n",
    "\n",
    "Если признак popularity меньше или равен 50 - 0 класс\n",
    "\n",
    "Работайте с выборками после разбиения на обучение и тест\n",
    "\n",
    "    Обучите дерево решений для задачи бинарной классификации с фиксированным random_state=1 и со значением глубины дерева 17.\n",
    "\n",
    "    Посчитайте метрику accuracy на тренировочной и тестовой выборках.\n",
    "\n",
    "    Обучите случайный лес для задачи на базовых параметрах с фиксированным `random_state=1`.\n",
    "\n",
    "    Посчитайте метрику accuracy на тренировочной и тестовой выборках.\n",
    "\n",
    "Укажите, на сколько метрика на тесте на случайном лесу лучше, чем на дереве решений, округлив до второго знака после точки."
   ]
  },
  {
   "cell_type": "code",
   "execution_count": 9,
   "id": "971aef51",
   "metadata": {},
   "outputs": [],
   "source": [
    "y_train_bin = (y_train > 50).astype(int)\n",
    "y_test_bin = (y_test > 50).astype(int)"
   ]
  },
  {
   "cell_type": "code",
   "execution_count": 10,
   "id": "2b920e0a",
   "metadata": {},
   "outputs": [
    {
     "name": "stdout",
     "output_type": "stream",
     "text": [
      "трен/тест: 0.98075/0.689\n"
     ]
    }
   ],
   "source": [
    "tree_clf = DecisionTreeClassifier(random_state=1, max_depth=17)\n",
    "tree_clf.fit(X_train, y_train_bin)\n",
    "\n",
    "tree_acc_train = accuracy_score(y_train_bin, tree_clf.predict(X_train))\n",
    "tree_acc_test = accuracy_score(y_test_bin, tree_clf.predict(X_test))\n",
    "\n",
    "print(f'трен/тест: {tree_acc_train}/{tree_acc_test}')\n"
   ]
  },
  {
   "cell_type": "code",
   "execution_count": 11,
   "id": "1a95bd77",
   "metadata": {},
   "outputs": [
    {
     "name": "stdout",
     "output_type": "stream",
     "text": [
      "трен/тест: 0.9935/0.771\n"
     ]
    }
   ],
   "source": [
    "forest_clf = RandomForestClassifier(random_state=1)\n",
    "forest_clf.fit(X_train, y_train_bin)\n",
    "\n",
    "forest_acc_train = accuracy_score(y_train_bin, forest_clf.predict(X_train))\n",
    "forest_acc_test = accuracy_score(y_test_bin, forest_clf.predict(X_test))\n",
    "\n",
    "print(f'трен/тест: {forest_acc_train}/{forest_acc_test}')\n"
   ]
  },
  {
   "cell_type": "markdown",
   "id": "bec1cc2c",
   "metadata": {},
   "source": [
    "Answer 3:"
   ]
  },
  {
   "cell_type": "code",
   "execution_count": 12,
   "id": "bbb0df1f",
   "metadata": {},
   "outputs": [
    {
     "data": {
      "text/plain": [
       "0.08200000000000007"
      ]
     },
     "execution_count": 12,
     "metadata": {},
     "output_type": "execute_result"
    }
   ],
   "source": [
    "forest_acc_test - tree_acc_test"
   ]
  },
  {
   "cell_type": "markdown",
   "id": "7aff7b7a",
   "metadata": {},
   "source": [
    "# Task 4 #\n",
    "\n",
    "Продолжайте работать с датасетом музыкальных композиций.\n",
    "\n",
    "\n",
    "    У модели случайный лес оставьте параметр random_state=1. Измените количество деревьев от 1 до 150 с шагом 10.\n",
    "\n",
    "    Визуализируйте изменение метрики accuracy на тренировочной и тестовой выборках от параметра количества моделей.\n",
    "\n",
    "Выберите правильный вывод:\n",
    "Выберите один ответ:\n",
    "\n",
    "    Увеличение до разумных пределов параметра n_estimators в случайном лесу ухудшает качество модели\n",
    "\n",
    "    Увеличение до разумных пределов параметра n_estimators в случайном лесу улучшает качество модели \n",
    "    \n",
    "    Параметр n_estimators не влияет на качество случайного леса"
   ]
  },
  {
   "cell_type": "code",
   "execution_count": 13,
   "id": "2fae3da3",
   "metadata": {},
   "outputs": [
    {
     "name": "stdout",
     "output_type": "stream",
     "text": [
      "0.864 / 0.647\n",
      "0.987 / 0.728\n",
      "0.9925 / 0.758\n",
      "0.99275 / 0.76\n",
      "0.99325 / 0.758\n",
      "0.99325 / 0.765\n",
      "0.9935 / 0.765\n",
      "0.9935 / 0.758\n",
      "0.9935 / 0.758\n",
      "0.9935 / 0.763\n",
      "0.9935 / 0.768\n",
      "0.9935 / 0.769\n",
      "0.9935 / 0.771\n",
      "0.9935 / 0.765\n",
      "0.9935 / 0.765\n"
     ]
    },
    {
     "data": {
      "text/plain": [
       "Text(0.5, 0, 'num_trees')"
      ]
     },
     "execution_count": 13,
     "metadata": {},
     "output_type": "execute_result"
    },
    {
     "data": {
      "image/png": "[encoded data removed]",
      "text/plain": [
       "<Figure size 1000x600 with 1 Axes>"
      ]
     },
     "metadata": {},
     "output_type": "display_data"
    }
   ],
   "source": [
    "num_trees = range(1, 151, 10)\n",
    "\n",
    "train_acc_list = []\n",
    "test_acc_list = []\n",
    "\n",
    "for num in num_trees:\n",
    "    clf4  = RandomForestClassifier(random_state=1, n_estimators=num, n_jobs=-1)\n",
    "    clf4.fit(X_train, y_train_bin)\n",
    "\n",
    "    print(f'{accuracy_score(y_train_bin, clf4.predict(X_train))} / {accuracy_score(y_test_bin, clf4.predict(X_test))}')\n",
    "    train_acc_list.append(accuracy_score(y_train_bin, clf4.predict(X_train)))\n",
    "    test_acc_list.append(accuracy_score(y_test_bin, clf4.predict(X_test)))\n",
    "\n",
    "\n",
    "plt.figure(figsize=(10,6))\n",
    "plt.plot(num_trees, train_acc_list, color='red')\n",
    "plt.plot(num_trees, test_acc_list, color='green')\n",
    "plt.ylabel('mse')\n",
    "plt.xlabel('num_trees')   "
   ]
  },
  {
   "cell_type": "markdown",
   "id": "276d8544",
   "metadata": {},
   "source": [
    "Answer 4\n",
    "\n",
    "    Увеличение до разумных пределов параметра n_estimators в случайном лесу улучшает качество модели"
   ]
  }
 ],
 "metadata": {
  "kernelspec": {
   "display_name": "Python 3",
   "language": "python",
   "name": "python3"
  },
  "language_info": {
   "codemirror_mode": {
    "name": "ipython",
    "version": 3
   },
   "file_extension": ".py",
   "mimetype": "text/x-python",
   "name": "python",
   "nbconvert_exporter": "python",
   "pygments_lexer": "ipython3",
   "version": "3.11.4"
  }
 },
 "nbformat": 4,
 "nbformat_minor": 5
}
