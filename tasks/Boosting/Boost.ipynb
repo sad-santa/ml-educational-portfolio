{
 "cells": [
  {
   "cell_type": "code",
   "execution_count": 21,
   "id": "e5355471",
   "metadata": {},
   "outputs": [],
   "source": [
    "import pandas as pd\n",
    "import numpy as np\n",
    "import matplotlib.pyplot as plt\n",
    "import seaborn as sns\n",
    "\n",
    "from sklearn.preprocessing import OneHotEncoder, OrdinalEncoder\n",
    "from sklearn.preprocessing import StandardScaler\n",
    "from sklearn.model_selection import train_test_split\n",
    "from sklearn.model_selection import GridSearchCV\n",
    "\n",
    "from sklearn.pipeline import make_pipeline, Pipeline\n",
    "\n",
    "from sklearn.ensemble import (AdaBoostClassifier,\n",
    "                               AdaBoostRegressor,\n",
    "                               GradientBoostingClassifier,\n",
    "                               GradientBoostingRegressor)"
   ]
  },
  {
   "cell_type": "markdown",
   "id": "a79fb7dd",
   "metadata": {},
   "source": [
    "# Task 1 #\n",
    "\n",
    "Будем работать с датасетом для предсказания оттока клиента.\n",
    "\n",
    "Можно скачать датасет с google drive.\n",
    "\n",
    "Целевой признак Churn\n",
    "\n",
    "\n",
    "    Считайте данные через pandas\n",
    "\n",
    "    Сделайте разбиение на обучение и тест с соотношением 80/20, со стратификацией по целевому признаку и random_state=1.\n",
    "\n",
    "    Удалите признак идентификатора клиента. Изучите признаки в тренировочном датасете, убедитесь, что типы данных соответствуют значениям в признаке.\n",
    "\n",
    "    Если есть не явные пропуски замените их в численных признаках на 0\n",
    "\n",
    "Укажите в ответе, сколько категориальных/бинарных/численных признаков имеется в задаче."
   ]
  },
  {
   "cell_type": "code",
   "execution_count": 22,
   "id": "6d886dc0",
   "metadata": {},
   "outputs": [
    {
     "data": {
      "text/html": [
       "<div>\n",
       "<style scoped>\n",
       "    .dataframe tbody tr th:only-of-type {\n",
       "        vertical-align: middle;\n",
       "    }\n",
       "\n",
       "    .dataframe tbody tr th {\n",
       "        vertical-align: top;\n",
       "    }\n",
       "\n",
       "    .dataframe thead th {\n",
       "        text-align: right;\n",
       "    }\n",
       "</style>\n",
       "<table border=\"1\" class=\"dataframe\">\n",
       "  <thead>\n",
       "    <tr style=\"text-align: right;\">\n",
       "      <th></th>\n",
       "      <th>gender</th>\n",
       "      <th>SeniorCitizen</th>\n",
       "      <th>Partner</th>\n",
       "      <th>Dependents</th>\n",
       "      <th>tenure</th>\n",
       "      <th>PhoneService</th>\n",
       "      <th>MultipleLines</th>\n",
       "      <th>InternetService</th>\n",
       "      <th>OnlineSecurity</th>\n",
       "      <th>OnlineBackup</th>\n",
       "      <th>DeviceProtection</th>\n",
       "      <th>TechSupport</th>\n",
       "      <th>StreamingTV</th>\n",
       "      <th>StreamingMovies</th>\n",
       "      <th>Contract</th>\n",
       "      <th>PaperlessBilling</th>\n",
       "      <th>PaymentMethod</th>\n",
       "      <th>MonthlyCharges</th>\n",
       "      <th>TotalCharges</th>\n",
       "      <th>Churn</th>\n",
       "    </tr>\n",
       "  </thead>\n",
       "  <tbody>\n",
       "    <tr>\n",
       "      <th>0</th>\n",
       "      <td>Female</td>\n",
       "      <td>0</td>\n",
       "      <td>Yes</td>\n",
       "      <td>No</td>\n",
       "      <td>1</td>\n",
       "      <td>No</td>\n",
       "      <td>No phone service</td>\n",
       "      <td>DSL</td>\n",
       "      <td>No</td>\n",
       "      <td>Yes</td>\n",
       "      <td>No</td>\n",
       "      <td>No</td>\n",
       "      <td>No</td>\n",
       "      <td>No</td>\n",
       "      <td>Month-to-month</td>\n",
       "      <td>Yes</td>\n",
       "      <td>Electronic check</td>\n",
       "      <td>29.85</td>\n",
       "      <td>29.85</td>\n",
       "      <td>No</td>\n",
       "    </tr>\n",
       "    <tr>\n",
       "      <th>1</th>\n",
       "      <td>Male</td>\n",
       "      <td>0</td>\n",
       "      <td>No</td>\n",
       "      <td>No</td>\n",
       "      <td>34</td>\n",
       "      <td>Yes</td>\n",
       "      <td>No</td>\n",
       "      <td>DSL</td>\n",
       "      <td>Yes</td>\n",
       "      <td>No</td>\n",
       "      <td>Yes</td>\n",
       "      <td>No</td>\n",
       "      <td>No</td>\n",
       "      <td>No</td>\n",
       "      <td>One year</td>\n",
       "      <td>No</td>\n",
       "      <td>Mailed check</td>\n",
       "      <td>56.95</td>\n",
       "      <td>1889.5</td>\n",
       "      <td>No</td>\n",
       "    </tr>\n",
       "    <tr>\n",
       "      <th>2</th>\n",
       "      <td>Male</td>\n",
       "      <td>0</td>\n",
       "      <td>No</td>\n",
       "      <td>No</td>\n",
       "      <td>2</td>\n",
       "      <td>Yes</td>\n",
       "      <td>No</td>\n",
       "      <td>DSL</td>\n",
       "      <td>Yes</td>\n",
       "      <td>Yes</td>\n",
       "      <td>No</td>\n",
       "      <td>No</td>\n",
       "      <td>No</td>\n",
       "      <td>No</td>\n",
       "      <td>Month-to-month</td>\n",
       "      <td>Yes</td>\n",
       "      <td>Mailed check</td>\n",
       "      <td>53.85</td>\n",
       "      <td>108.15</td>\n",
       "      <td>Yes</td>\n",
       "    </tr>\n",
       "    <tr>\n",
       "      <th>3</th>\n",
       "      <td>Male</td>\n",
       "      <td>0</td>\n",
       "      <td>No</td>\n",
       "      <td>No</td>\n",
       "      <td>45</td>\n",
       "      <td>No</td>\n",
       "      <td>No phone service</td>\n",
       "      <td>DSL</td>\n",
       "      <td>Yes</td>\n",
       "      <td>No</td>\n",
       "      <td>Yes</td>\n",
       "      <td>Yes</td>\n",
       "      <td>No</td>\n",
       "      <td>No</td>\n",
       "      <td>One year</td>\n",
       "      <td>No</td>\n",
       "      <td>Bank transfer (automatic)</td>\n",
       "      <td>42.30</td>\n",
       "      <td>1840.75</td>\n",
       "      <td>No</td>\n",
       "    </tr>\n",
       "    <tr>\n",
       "      <th>4</th>\n",
       "      <td>Female</td>\n",
       "      <td>0</td>\n",
       "      <td>No</td>\n",
       "      <td>No</td>\n",
       "      <td>2</td>\n",
       "      <td>Yes</td>\n",
       "      <td>No</td>\n",
       "      <td>Fiber optic</td>\n",
       "      <td>No</td>\n",
       "      <td>No</td>\n",
       "      <td>No</td>\n",
       "      <td>No</td>\n",
       "      <td>No</td>\n",
       "      <td>No</td>\n",
       "      <td>Month-to-month</td>\n",
       "      <td>Yes</td>\n",
       "      <td>Electronic check</td>\n",
       "      <td>70.70</td>\n",
       "      <td>151.65</td>\n",
       "      <td>Yes</td>\n",
       "    </tr>\n",
       "  </tbody>\n",
       "</table>\n",
       "</div>"
      ],
      "text/plain": [
       "   gender  SeniorCitizen Partner Dependents  tenure PhoneService  \\\n",
       "0  Female              0     Yes         No       1           No   \n",
       "1    Male              0      No         No      34          Yes   \n",
       "2    Male              0      No         No       2          Yes   \n",
       "3    Male              0      No         No      45           No   \n",
       "4  Female              0      No         No       2          Yes   \n",
       "\n",
       "      MultipleLines InternetService OnlineSecurity OnlineBackup  \\\n",
       "0  No phone service             DSL             No          Yes   \n",
       "1                No             DSL            Yes           No   \n",
       "2                No             DSL            Yes          Yes   \n",
       "3  No phone service             DSL            Yes           No   \n",
       "4                No     Fiber optic             No           No   \n",
       "\n",
       "  DeviceProtection TechSupport StreamingTV StreamingMovies        Contract  \\\n",
       "0               No          No          No              No  Month-to-month   \n",
       "1              Yes          No          No              No        One year   \n",
       "2               No          No          No              No  Month-to-month   \n",
       "3              Yes         Yes          No              No        One year   \n",
       "4               No          No          No              No  Month-to-month   \n",
       "\n",
       "  PaperlessBilling              PaymentMethod  MonthlyCharges TotalCharges  \\\n",
       "0              Yes           Electronic check           29.85        29.85   \n",
       "1               No               Mailed check           56.95       1889.5   \n",
       "2              Yes               Mailed check           53.85       108.15   \n",
       "3               No  Bank transfer (automatic)           42.30      1840.75   \n",
       "4              Yes           Electronic check           70.70       151.65   \n",
       "\n",
       "  Churn  \n",
       "0    No  \n",
       "1    No  \n",
       "2   Yes  \n",
       "3    No  \n",
       "4   Yes  "
      ]
     },
     "execution_count": 22,
     "metadata": {},
     "output_type": "execute_result"
    }
   ],
   "source": [
    "df = pd.read_csv('./WA_Fn-UseC_-Telco-Customer-Churn.csv', sep=',', low_memory=False)\n",
    "data = df.copy()\n",
    "data = data.drop(['customerID'], axis =1)\n",
    "data.head()"
   ]
  },
  {
   "cell_type": "code",
   "execution_count": 23,
   "id": "bc488fcc",
   "metadata": {},
   "outputs": [
    {
     "name": "stdout",
     "output_type": "stream",
     "text": [
      "<class 'pandas.core.frame.DataFrame'>\n",
      "RangeIndex: 7043 entries, 0 to 7042\n",
      "Data columns (total 20 columns):\n",
      " #   Column            Non-Null Count  Dtype  \n",
      "---  ------            --------------  -----  \n",
      " 0   gender            7043 non-null   object \n",
      " 1   SeniorCitizen     7043 non-null   int64  \n",
      " 2   Partner           7043 non-null   object \n",
      " 3   Dependents        7043 non-null   object \n",
      " 4   tenure            7043 non-null   int64  \n",
      " 5   PhoneService      7043 non-null   object \n",
      " 6   MultipleLines     7043 non-null   object \n",
      " 7   InternetService   7043 non-null   object \n",
      " 8   OnlineSecurity    7043 non-null   object \n",
      " 9   OnlineBackup      7043 non-null   object \n",
      " 10  DeviceProtection  7043 non-null   object \n",
      " 11  TechSupport       7043 non-null   object \n",
      " 12  StreamingTV       7043 non-null   object \n",
      " 13  StreamingMovies   7043 non-null   object \n",
      " 14  Contract          7043 non-null   object \n",
      " 15  PaperlessBilling  7043 non-null   object \n",
      " 16  PaymentMethod     7043 non-null   object \n",
      " 17  MonthlyCharges    7043 non-null   float64\n",
      " 18  TotalCharges      7043 non-null   object \n",
      " 19  Churn             7043 non-null   object \n",
      "dtypes: float64(1), int64(2), object(17)\n",
      "memory usage: 1.1+ MB\n"
     ]
    }
   ],
   "source": [
    "data.info()"
   ]
  },
  {
   "cell_type": "code",
   "execution_count": 24,
   "id": "b951b199",
   "metadata": {},
   "outputs": [
    {
     "name": "stdout",
     "output_type": "stream",
     "text": [
      "<class 'pandas.core.frame.DataFrame'>\n",
      "RangeIndex: 7043 entries, 0 to 7042\n",
      "Data columns (total 20 columns):\n",
      " #   Column            Non-Null Count  Dtype  \n",
      "---  ------            --------------  -----  \n",
      " 0   gender            7043 non-null   object \n",
      " 1   SeniorCitizen     7043 non-null   int64  \n",
      " 2   Partner           7043 non-null   object \n",
      " 3   Dependents        7043 non-null   object \n",
      " 4   tenure            7043 non-null   int64  \n",
      " 5   PhoneService      7043 non-null   object \n",
      " 6   MultipleLines     7043 non-null   object \n",
      " 7   InternetService   7043 non-null   object \n",
      " 8   OnlineSecurity    7043 non-null   object \n",
      " 9   OnlineBackup      7043 non-null   object \n",
      " 10  DeviceProtection  7043 non-null   object \n",
      " 11  TechSupport       7043 non-null   object \n",
      " 12  StreamingTV       7043 non-null   object \n",
      " 13  StreamingMovies   7043 non-null   object \n",
      " 14  Contract          7043 non-null   object \n",
      " 15  PaperlessBilling  7043 non-null   object \n",
      " 16  PaymentMethod     7043 non-null   object \n",
      " 17  MonthlyCharges    7043 non-null   float64\n",
      " 18  TotalCharges      7032 non-null   float64\n",
      " 19  Churn             7043 non-null   object \n",
      "dtypes: float64(2), int64(2), object(16)\n",
      "memory usage: 1.1+ MB\n"
     ]
    }
   ],
   "source": [
    "data['TotalCharges'] = pd.to_numeric(data['TotalCharges'], errors='coerce')\n",
    "data.info()"
   ]
  },
  {
   "cell_type": "markdown",
   "id": "4348ca7b",
   "metadata": {},
   "source": [
    "Answer 1:\n",
    "\n",
    "категориальных\n",
    "10\n",
    "\n",
    "бинарных \n",
    "6\n",
    " \n",
    "численных \n",
    "3\n"
   ]
  },
  {
   "cell_type": "markdown",
   "id": "8c04064c",
   "metadata": {},
   "source": [
    "# Task 2 #\n",
    "\n",
    "Продолжайте работать с датасетом для предсказания оттока клиента.\n",
    "\n",
    "Преобразуйте бинарные признаки через OrdinalEncoder, а категориальные - через OneHotEncoder (с параметром sparse_output=False).\n",
    "\n",
    "Не забудьте удалить преобразованные категориальные колонки из выборок.\n",
    "\n",
    "Какая получилась размерность у тренировочной и тестовой выборок?"
   ]
  },
  {
   "cell_type": "code",
   "execution_count": 25,
   "id": "61c31b6a",
   "metadata": {},
   "outputs": [
    {
     "data": {
      "text/plain": [
       "(7043, 19)"
      ]
     },
     "execution_count": 25,
     "metadata": {},
     "output_type": "execute_result"
    }
   ],
   "source": [
    "X = data.drop(['Churn'], axis=1)\n",
    "y = data.Churn\n",
    "X.shape"
   ]
  },
  {
   "cell_type": "code",
   "execution_count": 26,
   "id": "1b6edbc6",
   "metadata": {},
   "outputs": [],
   "source": [
    "X_train, X_test, y_train, y_test = train_test_split(X, y, test_size=0.2, random_state=1, stratify=y)"
   ]
  },
  {
   "cell_type": "code",
   "execution_count": 27,
   "id": "622ae24c",
   "metadata": {},
   "outputs": [],
   "source": [
    "binary_cols = ['gender', 'SeniorCitizen', 'Partner', 'Dependents', 'PhoneService', 'PaperlessBilling']\n",
    "categorical_cols = ['MultipleLines', 'InternetService', 'OnlineSecurity', 'OnlineBackup', 'DeviceProtection', \n",
    "                    'TechSupport', 'StreamingTV', 'StreamingMovies', 'Contract', 'PaymentMethod']\n",
    "numeric_cols = ['tenure', 'MonthlyCharges', 'TotalCharges']"
   ]
  },
  {
   "cell_type": "code",
   "execution_count": 28,
   "id": "9f44d6ef",
   "metadata": {},
   "outputs": [],
   "source": [
    "X_train[numeric_cols] = X_train[numeric_cols].fillna(0)\n",
    "X_test[numeric_cols] = X_test[numeric_cols].fillna(0)"
   ]
  },
  {
   "cell_type": "code",
   "execution_count": 29,
   "id": "bdc895ee",
   "metadata": {},
   "outputs": [],
   "source": [
    "OE = OrdinalEncoder()\n",
    "X_train_bin = OE.fit_transform(X_train[binary_cols])\n",
    "X_test_bin = OE.transform(X_test[binary_cols])"
   ]
  },
  {
   "cell_type": "code",
   "execution_count": 30,
   "id": "307c7964",
   "metadata": {},
   "outputs": [],
   "source": [
    "onehot= OneHotEncoder(sparse_output=False)\n",
    "X_train_cat = onehot.fit_transform(X_train[categorical_cols])\n",
    "X_test_cat = onehot.transform(X_test[categorical_cols])"
   ]
  },
  {
   "cell_type": "code",
   "execution_count": 31,
   "id": "01549c8a",
   "metadata": {},
   "outputs": [],
   "source": [
    "X_train_num = X_train[numeric_cols].to_numpy()\n",
    "X_test_num = X_test[numeric_cols].to_numpy()"
   ]
  },
  {
   "cell_type": "code",
   "execution_count": 32,
   "id": "64e23988",
   "metadata": {},
   "outputs": [],
   "source": [
    "X_train_final = np.hstack([X_train_bin, X_train_cat, X_train_num])\n",
    "X_test_final = np.hstack([X_test_bin, X_test_cat, X_test_num])"
   ]
  },
  {
   "cell_type": "markdown",
   "id": "21975f20",
   "metadata": {},
   "source": [
    "Answer 2:"
   ]
  },
  {
   "cell_type": "code",
   "execution_count": 33,
   "id": "e43b9496",
   "metadata": {},
   "outputs": [
    {
     "data": {
      "text/plain": [
       "(5634, 40)"
      ]
     },
     "execution_count": 33,
     "metadata": {},
     "output_type": "execute_result"
    }
   ],
   "source": [
    "X_train_final.shape"
   ]
  },
  {
   "cell_type": "code",
   "execution_count": 34,
   "id": "7358d336",
   "metadata": {},
   "outputs": [
    {
     "data": {
      "text/plain": [
       "(1409, 40)"
      ]
     },
     "execution_count": 34,
     "metadata": {},
     "output_type": "execute_result"
    }
   ],
   "source": [
    "X_test_final.shape"
   ]
  },
  {
   "cell_type": "markdown",
   "id": "a05674d4",
   "metadata": {},
   "source": [
    "# Task 3 #\n",
    "Для выполнения задания вы можете самостоятельно создать Python-ноутбук, а в LMS прикладывать лишь требуемые результаты.\n",
    "\n",
    "Продолжайте работать с датасетом для предсказания оттока клиента.\n",
    "\n",
    "    Обучите случайный лес на базовых гиперпараметрах с фиксированным random_state=1 и посчитайте метрику f1 с усреднением macro на тренировочной и тестовой выборках.\n",
    "\n",
    "    Обучите градиентный бустинг из sklearn на базовых гиперпараметрах с фиксированным random_state=1 и посчитайте метрику f1 с усреднением macro на тренировочной и тестовой выборках.\n",
    "\n",
    "Укажите, на сколько метрика на тесте на градиентном бустинге лучше, чем на случайном лесу, округлив до второго знака после точки."
   ]
  },
  {
   "cell_type": "code",
   "execution_count": 35,
   "id": "54966c28",
   "metadata": {},
   "outputs": [
    {
     "name": "stdout",
     "output_type": "stream",
     "text": [
      "0.9972661602167274 \\ 0.6953042940994748\n"
     ]
    }
   ],
   "source": [
    "from sklearn.ensemble import RandomForestClassifier\n",
    "from sklearn.metrics import f1_score\n",
    "y_train = y_train.map({'Yes': 1, 'No': 0})\n",
    "y_test = y_test.map({'Yes': 1, 'No': 0})\n",
    "\n",
    "RF_clf = RandomForestClassifier(random_state=1)\n",
    "RF_clf.fit(X_train_final, y_train)\n",
    "\n",
    "print(f\"{f1_score(y_train, RF_clf.predict(X_train_final), average='macro')} \\ {f1_score(y_test, RF_clf.predict(X_test_final), average='macro')}\")"
   ]
  },
  {
   "cell_type": "code",
   "execution_count": 36,
   "id": "7dd7db1b",
   "metadata": {},
   "outputs": [
    {
     "name": "stdout",
     "output_type": "stream",
     "text": [
      "0.7591926876370532 \\ 0.7316248951876642\n"
     ]
    }
   ],
   "source": [
    "GB_clf = GradientBoostingClassifier(random_state=1)\n",
    "GB_clf.fit(X_train_final, y_train)\n",
    "print(f\"{f1_score(y_train, GB_clf.predict(X_train_final), average='macro')} \\ {f1_score(y_test, GB_clf.predict(X_test_final), average='macro')}\")"
   ]
  },
  {
   "cell_type": "markdown",
   "id": "306fe8e1",
   "metadata": {},
   "source": [
    "Answer 3"
   ]
  },
  {
   "cell_type": "code",
   "execution_count": 37,
   "id": "487ce76b",
   "metadata": {},
   "outputs": [
    {
     "name": "stdout",
     "output_type": "stream",
     "text": [
      "0.03632060108818935\n"
     ]
    }
   ],
   "source": [
    "print(f\"{(f1_score(y_test, GB_clf.predict(X_test_final), average='macro') - f1_score(y_test, RF_clf.predict(X_test_final), average='macro'))}\")"
   ]
  },
  {
   "cell_type": "markdown",
   "id": "680b1bd1",
   "metadata": {},
   "source": [
    "# Task 4 #\n",
    "\n",
    "Для выполнения задания вы можете самостоятельно создать Python-ноутбук, а в LMS прикладывать лишь требуемые результаты.\n",
    "\n",
    "Продолжайте работать с датасетом для предсказания оттока клиента.\n",
    "\n",
    "У модели градиентный бустинг оставьте параметр random_state=1. Измените глубину деревьев от 1 до 20 с шагом 1.\n",
    "\n",
    "Визуализируйте изменение метрики f1 macro на тренировочной и тестовой выборках от параметра глубины.\n",
    "\n",
    "Выберите правильный вывод.\n",
    "\n",
    "Выберите один ответ:\n",
    "\n",
    "    Параметр max_depth не влияет на качество градиентного бустинга на тесте\n",
    "\n",
    "    Увеличение до разумных пределов параметра max_depth в градиентном бустинге улучшает качество модели на тесте\n",
    "\n",
    "    Увеличение до разумных пределов параметра max_depth в градиентном бустинге ухудшает качество модели на тесте "
   ]
  },
  {
   "cell_type": "code",
   "execution_count": 38,
   "id": "e555155a",
   "metadata": {},
   "outputs": [],
   "source": [
    "tree_depth = np.arange(1, 21)"
   ]
  },
  {
   "cell_type": "code",
   "execution_count": 39,
   "id": "ee94fe95",
   "metadata": {},
   "outputs": [
    {
     "name": "stdout",
     "output_type": "stream",
     "text": [
      "depth = 1\n",
      "depth = 2\n",
      "depth = 3\n",
      "depth = 4\n",
      "depth = 5\n",
      "depth = 6\n",
      "depth = 7\n",
      "depth = 8\n",
      "depth = 9\n",
      "depth = 10\n",
      "depth = 11\n",
      "depth = 12\n",
      "depth = 13\n",
      "depth = 14\n",
      "depth = 15\n",
      "depth = 16\n",
      "depth = 17\n",
      "depth = 18\n",
      "depth = 19\n",
      "depth = 20\n"
     ]
    },
    {
     "data": {
      "text/plain": [
       "Text(0, 0.5, 'f1')"
      ]
     },
     "execution_count": 39,
     "metadata": {},
     "output_type": "execute_result"
    },
    {
     "data": {
      "image/png": "[encoded data removed]",
      "text/plain": [
       "<Figure size 1600x900 with 1 Axes>"
      ]
     },
     "metadata": {},
     "output_type": "display_data"
    }
   ],
   "source": [
    "train4 = []\n",
    "test4 = []\n",
    "for depth in tree_depth:\n",
    "    print(f'depth = {depth}')\n",
    "    clf4 = GradientBoostingClassifier(random_state=1, max_depth=depth)\n",
    "    clf4.fit(X_train_final, y_train)\n",
    "    y_pred4_train = clf4.predict(X_train_final)\n",
    "    y_pred4_test = clf4.predict(X_test_final)\n",
    "    train4.append(f1_score(y_train, y_pred4_train, average='macro'))\n",
    "    test4.append(f1_score(y_test, y_pred4_test, average='macro'))\n",
    "\n",
    "plt.figure(figsize=(16,9))\n",
    "plt.plot(tree_depth, train4, marker='v', label = 'train')\n",
    "plt.plot(tree_depth, test4, marker = 's', label = 'test')\n",
    "plt.grid(True)\n",
    "plt.legend()\n",
    "plt.xlabel('tree_depth')\n",
    "plt.ylabel('f1')"
   ]
  },
  {
   "cell_type": "markdown",
   "id": "88538a49",
   "metadata": {},
   "source": [
    "Answer 4:\n",
    "\n",
    "    Увеличение до разумных пределов параметра max_depth в градиентном бустинге ухудшает качество модели на тесте"
   ]
  },
  {
   "cell_type": "markdown",
   "id": "5abe1e53",
   "metadata": {},
   "source": [
    "# Task 5 #\n",
    "Продолжайте работать с датасетом для предсказания оттока клиента.\n",
    "\n",
    "У модели градиентный бустинг оставьте параметр random_state=1. Измените скорость обучения от 0.1 до 0.9 с шагом 0.1.\n",
    "\n",
    "Визуализируйте изменение метрики f1 macro на тренировочной и тестовой выборках от параметра скорости обучения.\n",
    "\n",
    "Выберите правильный вывод.\n",
    "Выберите один ответ:\n",
    "\n",
    "    Увеличение до разумных пределов параметра learning_rate в градиентном бустинге ухудшает качество модели на тесте \n",
    "\n",
    "    Увеличение до разумных пределов параметра learning_rate в градиентном бустинге улучшает качество модели на тесте\n",
    "\n",
    "    Параметр learning_rate не влияет на качество градиентного бустинга на тесте"
   ]
  },
  {
   "cell_type": "code",
   "execution_count": 40,
   "id": "07f4ed21",
   "metadata": {},
   "outputs": [
    {
     "data": {
      "text/plain": [
       "array([0.1, 0.2, 0.3, 0.4, 0.5, 0.6, 0.7, 0.8, 0.9])"
      ]
     },
     "execution_count": 40,
     "metadata": {},
     "output_type": "execute_result"
    }
   ],
   "source": [
    "l_rate = np.arange(0.1, 1, 0.1)\n",
    "l_rate"
   ]
  },
  {
   "cell_type": "code",
   "execution_count": 41,
   "id": "2a35f7e7",
   "metadata": {},
   "outputs": [
    {
     "name": "stdout",
     "output_type": "stream",
     "text": [
      "depth = 0.1\n",
      "depth = 0.2\n",
      "depth = 0.30000000000000004\n",
      "depth = 0.4\n",
      "depth = 0.5\n",
      "depth = 0.6\n",
      "depth = 0.7000000000000001\n",
      "depth = 0.8\n",
      "depth = 0.9\n"
     ]
    },
    {
     "data": {
      "text/plain": [
       "Text(0, 0.5, 'f1')"
      ]
     },
     "execution_count": 41,
     "metadata": {},
     "output_type": "execute_result"
    },
    {
     "data": {
      "image/png": "[encoded data removed]",
      "text/plain": [
       "<Figure size 1600x900 with 1 Axes>"
      ]
     },
     "metadata": {},
     "output_type": "display_data"
    }
   ],
   "source": [
    "train5 = []\n",
    "test5 = []\n",
    "for lr in l_rate:\n",
    "    print(f'depth = {lr}')\n",
    "    clf5 = GradientBoostingClassifier(random_state=1, learning_rate= lr)\n",
    "    clf5.fit(X_train_final, y_train)\n",
    "    y_pred5_train = clf5.predict(X_train_final)\n",
    "    y_pred5_test = clf5.predict(X_test_final)\n",
    "    train5.append(f1_score(y_train, y_pred5_train, average='macro'))\n",
    "    test5.append(f1_score(y_test, y_pred5_test, average='macro'))\n",
    "\n",
    "plt.figure(figsize=(16,9))\n",
    "plt.plot(l_rate, train5, marker='v', label = 'train')\n",
    "plt.plot(l_rate, test5, marker = 's', label = 'test')\n",
    "plt.grid(True)\n",
    "plt.legend()\n",
    "plt.xlabel('lerarning_rate')\n",
    "plt.ylabel('f1')"
   ]
  },
  {
   "cell_type": "markdown",
   "id": "3c48e1e3",
   "metadata": {},
   "source": [
    "Answer 5:\n",
    "\n",
    "    Увеличение до разумных пределов параметра learning_rate в градиентном бустинге ухудшает качество модели на тесте \n"
   ]
  },
  {
   "cell_type": "markdown",
   "id": "9921dd8d",
   "metadata": {},
   "source": [
    "# Task 6 #\n",
    "\n",
    "Для выполнения задания вы можете самостоятельно создать Python-ноутбук, а в LMS прикладывать лишь требуемые результаты.\n",
    "\n",
    "Продолжайте работать с датасетом для предсказания оттока клиента.\n",
    "\n",
    "Обучите модель CatBoost с параметрами random_state=1, n_estimators=100 на данных без не явных пропусков, без идентификатора клиента и без предобработанных категориальных и бинарных переменных, передав в параметр cat_features модели список категориальных и бинарных признаков.\n",
    "\n",
    "Укажите метрику F1 macro на тестовой выборке, округлив ее до третьего знака после точки."
   ]
  },
  {
   "cell_type": "code",
   "execution_count": 42,
   "id": "83760db2",
   "metadata": {},
   "outputs": [
    {
     "data": {
      "text/html": [
       "<div>\n",
       "<style scoped>\n",
       "    .dataframe tbody tr th:only-of-type {\n",
       "        vertical-align: middle;\n",
       "    }\n",
       "\n",
       "    .dataframe tbody tr th {\n",
       "        vertical-align: top;\n",
       "    }\n",
       "\n",
       "    .dataframe thead th {\n",
       "        text-align: right;\n",
       "    }\n",
       "</style>\n",
       "<table border=\"1\" class=\"dataframe\">\n",
       "  <thead>\n",
       "    <tr style=\"text-align: right;\">\n",
       "      <th></th>\n",
       "      <th>customerID</th>\n",
       "      <th>gender</th>\n",
       "      <th>SeniorCitizen</th>\n",
       "      <th>Partner</th>\n",
       "      <th>Dependents</th>\n",
       "      <th>tenure</th>\n",
       "      <th>PhoneService</th>\n",
       "      <th>MultipleLines</th>\n",
       "      <th>InternetService</th>\n",
       "      <th>OnlineSecurity</th>\n",
       "      <th>...</th>\n",
       "      <th>DeviceProtection</th>\n",
       "      <th>TechSupport</th>\n",
       "      <th>StreamingTV</th>\n",
       "      <th>StreamingMovies</th>\n",
       "      <th>Contract</th>\n",
       "      <th>PaperlessBilling</th>\n",
       "      <th>PaymentMethod</th>\n",
       "      <th>MonthlyCharges</th>\n",
       "      <th>TotalCharges</th>\n",
       "      <th>Churn</th>\n",
       "    </tr>\n",
       "  </thead>\n",
       "  <tbody>\n",
       "    <tr>\n",
       "      <th>0</th>\n",
       "      <td>7590-VHVEG</td>\n",
       "      <td>Female</td>\n",
       "      <td>0</td>\n",
       "      <td>Yes</td>\n",
       "      <td>No</td>\n",
       "      <td>1</td>\n",
       "      <td>No</td>\n",
       "      <td>No phone service</td>\n",
       "      <td>DSL</td>\n",
       "      <td>No</td>\n",
       "      <td>...</td>\n",
       "      <td>No</td>\n",
       "      <td>No</td>\n",
       "      <td>No</td>\n",
       "      <td>No</td>\n",
       "      <td>Month-to-month</td>\n",
       "      <td>Yes</td>\n",
       "      <td>Electronic check</td>\n",
       "      <td>29.85</td>\n",
       "      <td>29.85</td>\n",
       "      <td>No</td>\n",
       "    </tr>\n",
       "    <tr>\n",
       "      <th>1</th>\n",
       "      <td>5575-GNVDE</td>\n",
       "      <td>Male</td>\n",
       "      <td>0</td>\n",
       "      <td>No</td>\n",
       "      <td>No</td>\n",
       "      <td>34</td>\n",
       "      <td>Yes</td>\n",
       "      <td>No</td>\n",
       "      <td>DSL</td>\n",
       "      <td>Yes</td>\n",
       "      <td>...</td>\n",
       "      <td>Yes</td>\n",
       "      <td>No</td>\n",
       "      <td>No</td>\n",
       "      <td>No</td>\n",
       "      <td>One year</td>\n",
       "      <td>No</td>\n",
       "      <td>Mailed check</td>\n",
       "      <td>56.95</td>\n",
       "      <td>1889.5</td>\n",
       "      <td>No</td>\n",
       "    </tr>\n",
       "    <tr>\n",
       "      <th>2</th>\n",
       "      <td>3668-QPYBK</td>\n",
       "      <td>Male</td>\n",
       "      <td>0</td>\n",
       "      <td>No</td>\n",
       "      <td>No</td>\n",
       "      <td>2</td>\n",
       "      <td>Yes</td>\n",
       "      <td>No</td>\n",
       "      <td>DSL</td>\n",
       "      <td>Yes</td>\n",
       "      <td>...</td>\n",
       "      <td>No</td>\n",
       "      <td>No</td>\n",
       "      <td>No</td>\n",
       "      <td>No</td>\n",
       "      <td>Month-to-month</td>\n",
       "      <td>Yes</td>\n",
       "      <td>Mailed check</td>\n",
       "      <td>53.85</td>\n",
       "      <td>108.15</td>\n",
       "      <td>Yes</td>\n",
       "    </tr>\n",
       "    <tr>\n",
       "      <th>3</th>\n",
       "      <td>7795-CFOCW</td>\n",
       "      <td>Male</td>\n",
       "      <td>0</td>\n",
       "      <td>No</td>\n",
       "      <td>No</td>\n",
       "      <td>45</td>\n",
       "      <td>No</td>\n",
       "      <td>No phone service</td>\n",
       "      <td>DSL</td>\n",
       "      <td>Yes</td>\n",
       "      <td>...</td>\n",
       "      <td>Yes</td>\n",
       "      <td>Yes</td>\n",
       "      <td>No</td>\n",
       "      <td>No</td>\n",
       "      <td>One year</td>\n",
       "      <td>No</td>\n",
       "      <td>Bank transfer (automatic)</td>\n",
       "      <td>42.30</td>\n",
       "      <td>1840.75</td>\n",
       "      <td>No</td>\n",
       "    </tr>\n",
       "    <tr>\n",
       "      <th>4</th>\n",
       "      <td>9237-HQITU</td>\n",
       "      <td>Female</td>\n",
       "      <td>0</td>\n",
       "      <td>No</td>\n",
       "      <td>No</td>\n",
       "      <td>2</td>\n",
       "      <td>Yes</td>\n",
       "      <td>No</td>\n",
       "      <td>Fiber optic</td>\n",
       "      <td>No</td>\n",
       "      <td>...</td>\n",
       "      <td>No</td>\n",
       "      <td>No</td>\n",
       "      <td>No</td>\n",
       "      <td>No</td>\n",
       "      <td>Month-to-month</td>\n",
       "      <td>Yes</td>\n",
       "      <td>Electronic check</td>\n",
       "      <td>70.70</td>\n",
       "      <td>151.65</td>\n",
       "      <td>Yes</td>\n",
       "    </tr>\n",
       "  </tbody>\n",
       "</table>\n",
       "<p>5 rows × 21 columns</p>\n",
       "</div>"
      ],
      "text/plain": [
       "   customerID  gender  SeniorCitizen Partner Dependents  tenure PhoneService  \\\n",
       "0  7590-VHVEG  Female              0     Yes         No       1           No   \n",
       "1  5575-GNVDE    Male              0      No         No      34          Yes   \n",
       "2  3668-QPYBK    Male              0      No         No       2          Yes   \n",
       "3  7795-CFOCW    Male              0      No         No      45           No   \n",
       "4  9237-HQITU  Female              0      No         No       2          Yes   \n",
       "\n",
       "      MultipleLines InternetService OnlineSecurity  ... DeviceProtection  \\\n",
       "0  No phone service             DSL             No  ...               No   \n",
       "1                No             DSL            Yes  ...              Yes   \n",
       "2                No             DSL            Yes  ...               No   \n",
       "3  No phone service             DSL            Yes  ...              Yes   \n",
       "4                No     Fiber optic             No  ...               No   \n",
       "\n",
       "  TechSupport StreamingTV StreamingMovies        Contract PaperlessBilling  \\\n",
       "0          No          No              No  Month-to-month              Yes   \n",
       "1          No          No              No        One year               No   \n",
       "2          No          No              No  Month-to-month              Yes   \n",
       "3         Yes          No              No        One year               No   \n",
       "4          No          No              No  Month-to-month              Yes   \n",
       "\n",
       "               PaymentMethod MonthlyCharges  TotalCharges Churn  \n",
       "0           Electronic check          29.85         29.85    No  \n",
       "1               Mailed check          56.95        1889.5    No  \n",
       "2               Mailed check          53.85        108.15   Yes  \n",
       "3  Bank transfer (automatic)          42.30       1840.75    No  \n",
       "4           Electronic check          70.70        151.65   Yes  \n",
       "\n",
       "[5 rows x 21 columns]"
      ]
     },
     "execution_count": 42,
     "metadata": {},
     "output_type": "execute_result"
    }
   ],
   "source": [
    "df.head()"
   ]
  },
  {
   "cell_type": "code",
   "execution_count": 44,
   "id": "6889623b",
   "metadata": {},
   "outputs": [],
   "source": [
    "from catboost import CatBoostClassifier"
   ]
  },
  {
   "cell_type": "code",
   "execution_count": 45,
   "id": "1160460c",
   "metadata": {},
   "outputs": [
    {
     "name": "stdout",
     "output_type": "stream",
     "text": [
      "16\n"
     ]
    }
   ],
   "source": [
    "data = pd.read_csv('WA_Fn-UseC_-Telco-Customer-Churn.csv')\n",
    "data['TotalCharges'] = pd.to_numeric(data['TotalCharges'], errors='coerce')\n",
    "data['TotalCharges'] = data['TotalCharges'].fillna(0)\n",
    "\n",
    "cat_features = ['gender', 'SeniorCitizen', 'Partner', 'Dependents', 'PhoneService', 'PaperlessBilling'] + ['MultipleLines', 'InternetService', 'OnlineSecurity', 'OnlineBackup', 'DeviceProtection', \n",
    "                    'TechSupport', 'StreamingTV', 'StreamingMovies', 'Contract', 'PaymentMethod']\n",
    "print(len(cat_features))\n",
    "# Определение признаков и целевой переменной\n",
    "X = data.drop(columns=['customerID', 'Churn'])  # Убираем идентификатор и целевой признак\n",
    "y = data['Churn']\n"
   ]
  },
  {
   "cell_type": "code",
   "execution_count": 46,
   "id": "855a7d45",
   "metadata": {},
   "outputs": [
    {
     "name": "stdout",
     "output_type": "stream",
     "text": [
      "Learning rate set to 0.178046\n",
      "0:\tlearn: 0.6325535\ttotal: 171ms\tremaining: 17s\n",
      "99:\tlearn: 0.3945603\ttotal: 1.83s\tremaining: 0us\n"
     ]
    },
    {
     "data": {
      "text/plain": [
       "<catboost.core.CatBoostClassifier at 0x23016858050>"
      ]
     },
     "execution_count": 46,
     "metadata": {},
     "output_type": "execute_result"
    }
   ],
   "source": [
    "X_train, X_test, y_train, y_test = train_test_split(X, y, test_size=0.2, random_state=1)\n",
    "\n",
    "# Создание и обучение модели CatBoost\n",
    "clf = CatBoostClassifier(random_state=1, n_estimators=100, cat_features=cat_features, verbose=100)\n",
    "clf.fit(X_train, y_train)"
   ]
  },
  {
   "cell_type": "code",
   "execution_count": 47,
   "id": "3b757fe8",
   "metadata": {},
   "outputs": [
    {
     "name": "stdout",
     "output_type": "stream",
     "text": [
      "F1 macro на тестовой выборке: 0.749\n"
     ]
    }
   ],
   "source": [
    "y_test_pred = clf.predict(X_test)\n",
    "\n",
    "# Вычисление метрики F1 macro\n",
    "f1_macro = f1_score(y_test, y_test_pred, average='macro')\n",
    "print(f'F1 macro на тестовой выборке: {f1_macro:.3f}')"
   ]
  }
 ],
 "metadata": {
  "kernelspec": {
   "display_name": "Python 3",
   "language": "python",
   "name": "python3"
  },
  "language_info": {
   "codemirror_mode": {
    "name": "ipython",
    "version": 3
   },
   "file_extension": ".py",
   "mimetype": "text/x-python",
   "name": "python",
   "nbconvert_exporter": "python",
   "pygments_lexer": "ipython3",
   "version": "3.11.4"
  }
 },
 "nbformat": 4,
 "nbformat_minor": 5
}
