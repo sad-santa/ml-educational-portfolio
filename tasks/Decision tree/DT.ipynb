{
 "cells": [
  {
   "cell_type": "code",
   "execution_count": 54,
   "id": "abab5a44",
   "metadata": {},
   "outputs": [],
   "source": [
    "import numpy as np\n",
    "import pandas as pd\n",
    "import matplotlib.pyplot as plt\n",
    "import seaborn as sns\n",
    "\n",
    "from sklearn.preprocessing import StandardScaler\n",
    "from sklearn.preprocessing import MinMaxScaler\n",
    "from sklearn.preprocessing import LabelEncoder\n",
    "from sklearn.preprocessing import OrdinalEncoder\n",
    "from sklearn.model_selection import train_test_split\n",
    "from sklearn.model_selection import GridSearchCV\n",
    "\n",
    "from sklearn.pipeline import make_pipeline, Pipeline\n",
    "from sklearn.tree import DecisionTreeClassifier, DecisionTreeRegressor\n",
    "from sklearn import tree\n",
    "\n",
    "from sklearn.metrics import (accuracy_score,\n",
    "                             recall_score,\n",
    "                             precision_score,\n",
    "                             mean_squared_error)\n"
   ]
  },
  {
   "cell_type": "markdown",
   "id": "38c7a763",
   "metadata": {},
   "source": [
    "Вопрос 1"
   ]
  },
  {
   "cell_type": "code",
   "execution_count": 55,
   "id": "28901560",
   "metadata": {},
   "outputs": [],
   "source": [
    "# X = np.array([[1,0], [0,0], [0,1], [1,1], [0,0]])\n",
    "# y = np.array([0, 1, 1, 1, 1])"
   ]
  },
  {
   "cell_type": "code",
   "execution_count": 56,
   "id": "40a43082",
   "metadata": {},
   "outputs": [],
   "source": [
    "# dt = DecisionTreeClassifier()\n",
    "# dt.fit(X, y)"
   ]
  },
  {
   "cell_type": "code",
   "execution_count": 57,
   "id": "8274d591",
   "metadata": {},
   "outputs": [],
   "source": [
    "# plt.figure(figsize = (16,9))\n",
    "# tree.plot_tree(dt, feature_names=['Холодно', 'светит солнце'], filled=True)\n",
    "# depth = dt.get_depth()\n",
    "# print(f'глубина дерева ={depth}') "
   ]
  },
  {
   "cell_type": "code",
   "execution_count": 58,
   "id": "80c874ab",
   "metadata": {},
   "outputs": [],
   "source": [
    "# importances = dt.feature_importances_\n",
    "# importances"
   ]
  },
  {
   "cell_type": "markdown",
   "id": "f786f055",
   "metadata": {},
   "source": [
    "# Task 3 #\n",
    "\n",
    "Будем работать с датасетом музыкальных композиций, только с меньшей версией этого набора данных. Целевой признак popularity.\n",
    "\n",
    "Ссылка на нужную версию датасета.\n",
    "\n",
    "1. Считайте данные через pandas \n",
    "\n",
    "2. Сделайте разбиение на обучение и тест с соотношением 80/20 и random_state=1. \n",
    "\n",
    "3. Проверьте есть ли в датасете категориальные строковые признаки. Если есть, то преобразуйте через OrdinalEncoder. \n",
    "\n",
    "Какая получилась размерность у тренировочной и тестовой выборок?"
   ]
  },
  {
   "cell_type": "code",
   "execution_count": 59,
   "id": "35028f93",
   "metadata": {},
   "outputs": [
    {
     "data": {
      "text/html": [
       "<div>\n",
       "<style scoped>\n",
       "    .dataframe tbody tr th:only-of-type {\n",
       "        vertical-align: middle;\n",
       "    }\n",
       "\n",
       "    .dataframe tbody tr th {\n",
       "        vertical-align: top;\n",
       "    }\n",
       "\n",
       "    .dataframe thead th {\n",
       "        text-align: right;\n",
       "    }\n",
       "</style>\n",
       "<table border=\"1\" class=\"dataframe\">\n",
       "  <thead>\n",
       "    <tr style=\"text-align: right;\">\n",
       "      <th></th>\n",
       "      <th>popularity</th>\n",
       "      <th>duration_ms</th>\n",
       "      <th>explicit</th>\n",
       "      <th>danceability</th>\n",
       "      <th>energy</th>\n",
       "      <th>key</th>\n",
       "      <th>loudness</th>\n",
       "      <th>mode</th>\n",
       "      <th>speechiness</th>\n",
       "      <th>acousticness</th>\n",
       "      <th>instrumentalness</th>\n",
       "      <th>liveness</th>\n",
       "      <th>valence</th>\n",
       "      <th>tempo</th>\n",
       "      <th>time_signature</th>\n",
       "      <th>track_genre</th>\n",
       "    </tr>\n",
       "  </thead>\n",
       "  <tbody>\n",
       "    <tr>\n",
       "      <th>0</th>\n",
       "      <td>77</td>\n",
       "      <td>230613</td>\n",
       "      <td>False</td>\n",
       "      <td>0.509</td>\n",
       "      <td>0.448</td>\n",
       "      <td>4</td>\n",
       "      <td>-7.552</td>\n",
       "      <td>0</td>\n",
       "      <td>0.0357</td>\n",
       "      <td>0.00713</td>\n",
       "      <td>0.013700</td>\n",
       "      <td>0.2440</td>\n",
       "      <td>0.221</td>\n",
       "      <td>156.909</td>\n",
       "      <td>3</td>\n",
       "      <td>blues</td>\n",
       "    </tr>\n",
       "    <tr>\n",
       "      <th>1</th>\n",
       "      <td>79</td>\n",
       "      <td>208760</td>\n",
       "      <td>False</td>\n",
       "      <td>0.636</td>\n",
       "      <td>0.676</td>\n",
       "      <td>2</td>\n",
       "      <td>-3.442</td>\n",
       "      <td>1</td>\n",
       "      <td>0.0263</td>\n",
       "      <td>0.08070</td>\n",
       "      <td>0.000000</td>\n",
       "      <td>0.0831</td>\n",
       "      <td>0.273</td>\n",
       "      <td>113.980</td>\n",
       "      <td>4</td>\n",
       "      <td>blues</td>\n",
       "    </tr>\n",
       "    <tr>\n",
       "      <th>2</th>\n",
       "      <td>76</td>\n",
       "      <td>180690</td>\n",
       "      <td>False</td>\n",
       "      <td>0.573</td>\n",
       "      <td>0.539</td>\n",
       "      <td>2</td>\n",
       "      <td>-6.091</td>\n",
       "      <td>0</td>\n",
       "      <td>0.0322</td>\n",
       "      <td>0.01620</td>\n",
       "      <td>0.000012</td>\n",
       "      <td>0.1050</td>\n",
       "      <td>0.390</td>\n",
       "      <td>75.012</td>\n",
       "      <td>4</td>\n",
       "      <td>blues</td>\n",
       "    </tr>\n",
       "    <tr>\n",
       "      <th>3</th>\n",
       "      <td>84</td>\n",
       "      <td>232106</td>\n",
       "      <td>False</td>\n",
       "      <td>0.743</td>\n",
       "      <td>0.446</td>\n",
       "      <td>4</td>\n",
       "      <td>-7.807</td>\n",
       "      <td>0</td>\n",
       "      <td>0.0683</td>\n",
       "      <td>0.00390</td>\n",
       "      <td>0.118000</td>\n",
       "      <td>0.3370</td>\n",
       "      <td>0.278</td>\n",
       "      <td>123.596</td>\n",
       "      <td>4</td>\n",
       "      <td>blues</td>\n",
       "    </tr>\n",
       "    <tr>\n",
       "      <th>4</th>\n",
       "      <td>76</td>\n",
       "      <td>225026</td>\n",
       "      <td>False</td>\n",
       "      <td>0.572</td>\n",
       "      <td>0.214</td>\n",
       "      <td>7</td>\n",
       "      <td>-15.625</td>\n",
       "      <td>1</td>\n",
       "      <td>0.0293</td>\n",
       "      <td>0.64900</td>\n",
       "      <td>0.129000</td>\n",
       "      <td>0.1250</td>\n",
       "      <td>0.485</td>\n",
       "      <td>95.542</td>\n",
       "      <td>4</td>\n",
       "      <td>blues</td>\n",
       "    </tr>\n",
       "  </tbody>\n",
       "</table>\n",
       "</div>"
      ],
      "text/plain": [
       "   popularity  duration_ms  explicit  danceability  energy  key  loudness  \\\n",
       "0          77       230613     False         0.509   0.448    4    -7.552   \n",
       "1          79       208760     False         0.636   0.676    2    -3.442   \n",
       "2          76       180690     False         0.573   0.539    2    -6.091   \n",
       "3          84       232106     False         0.743   0.446    4    -7.807   \n",
       "4          76       225026     False         0.572   0.214    7   -15.625   \n",
       "\n",
       "   mode  speechiness  acousticness  instrumentalness  liveness  valence  \\\n",
       "0     0       0.0357       0.00713          0.013700    0.2440    0.221   \n",
       "1     1       0.0263       0.08070          0.000000    0.0831    0.273   \n",
       "2     0       0.0322       0.01620          0.000012    0.1050    0.390   \n",
       "3     0       0.0683       0.00390          0.118000    0.3370    0.278   \n",
       "4     1       0.0293       0.64900          0.129000    0.1250    0.485   \n",
       "\n",
       "     tempo  time_signature track_genre  \n",
       "0  156.909               3       blues  \n",
       "1  113.980               4       blues  \n",
       "2   75.012               4       blues  \n",
       "3  123.596               4       blues  \n",
       "4   95.542               4       blues  "
      ]
     },
     "execution_count": 59,
     "metadata": {},
     "output_type": "execute_result"
    }
   ],
   "source": [
    "data = pd.read_csv('./light_music.csv', delimiter=',')\n",
    "data.head()"
   ]
  },
  {
   "cell_type": "code",
   "execution_count": 60,
   "id": "ae817911",
   "metadata": {},
   "outputs": [
    {
     "data": {
      "text/plain": [
       "(5000, 16)"
      ]
     },
     "execution_count": 60,
     "metadata": {},
     "output_type": "execute_result"
    }
   ],
   "source": [
    "data.shape"
   ]
  },
  {
   "cell_type": "code",
   "execution_count": 61,
   "id": "0163cfa8",
   "metadata": {},
   "outputs": [
    {
     "name": "stdout",
     "output_type": "stream",
     "text": [
      "<class 'pandas.core.frame.DataFrame'>\n",
      "RangeIndex: 5000 entries, 0 to 4999\n",
      "Data columns (total 16 columns):\n",
      " #   Column            Non-Null Count  Dtype  \n",
      "---  ------            --------------  -----  \n",
      " 0   popularity        5000 non-null   int64  \n",
      " 1   duration_ms       5000 non-null   int64  \n",
      " 2   explicit          5000 non-null   bool   \n",
      " 3   danceability      5000 non-null   float64\n",
      " 4   energy            5000 non-null   float64\n",
      " 5   key               5000 non-null   int64  \n",
      " 6   loudness          5000 non-null   float64\n",
      " 7   mode              5000 non-null   int64  \n",
      " 8   speechiness       5000 non-null   float64\n",
      " 9   acousticness      5000 non-null   float64\n",
      " 10  instrumentalness  5000 non-null   float64\n",
      " 11  liveness          5000 non-null   float64\n",
      " 12  valence           5000 non-null   float64\n",
      " 13  tempo             5000 non-null   float64\n",
      " 14  time_signature    5000 non-null   int64  \n",
      " 15  track_genre       5000 non-null   object \n",
      "dtypes: bool(1), float64(9), int64(5), object(1)\n",
      "memory usage: 590.9+ KB\n"
     ]
    }
   ],
   "source": [
    "data.info()"
   ]
  },
  {
   "cell_type": "code",
   "execution_count": 62,
   "id": "2d564c15",
   "metadata": {},
   "outputs": [
    {
     "data": {
      "text/plain": [
       "91"
      ]
     },
     "execution_count": 62,
     "metadata": {},
     "output_type": "execute_result"
    }
   ],
   "source": [
    "data.popularity.nunique()"
   ]
  },
  {
   "cell_type": "code",
   "execution_count": 63,
   "id": "26600e64",
   "metadata": {},
   "outputs": [
    {
     "data": {
      "text/plain": [
       "2764    85\n",
       "4767    55\n",
       "3814    35\n",
       "3499    38\n",
       "2735    67\n",
       "        ..\n",
       "448      0\n",
       "921     54\n",
       "4087     0\n",
       "1242     1\n",
       "2242     0\n",
       "Name: popularity, Length: 1000, dtype: int64"
      ]
     },
     "execution_count": 63,
     "metadata": {},
     "output_type": "execute_result"
    }
   ],
   "source": [
    "X_train, X_test, y_train, y_test = train_test_split(data.iloc[:, 1:], data.iloc[:, 0], test_size=0.2, random_state=1)\n",
    "y_test"
   ]
  },
  {
   "cell_type": "code",
   "execution_count": 64,
   "id": "18e0e867",
   "metadata": {},
   "outputs": [],
   "source": [
    "encoder = OrdinalEncoder()"
   ]
  },
  {
   "cell_type": "code",
   "execution_count": 65,
   "id": "e85cb080",
   "metadata": {},
   "outputs": [
    {
     "data": {
      "text/plain": [
       "Index(['track_genre'], dtype='object')"
      ]
     },
     "execution_count": 65,
     "metadata": {},
     "output_type": "execute_result"
    }
   ],
   "source": [
    "transform_features = X_train.select_dtypes(include='object').columns\n",
    "transform_features"
   ]
  },
  {
   "cell_type": "code",
   "execution_count": 66,
   "id": "3c3b2410",
   "metadata": {},
   "outputs": [],
   "source": [
    "X_train[transform_features] = encoder.fit_transform(X_train[transform_features])\n",
    "X_test[transform_features] = encoder.transform(X_test[transform_features])"
   ]
  },
  {
   "cell_type": "markdown",
   "id": "422ab017",
   "metadata": {},
   "source": [
    "Answer 3:"
   ]
  },
  {
   "cell_type": "code",
   "execution_count": 67,
   "id": "2e04ee93",
   "metadata": {},
   "outputs": [
    {
     "data": {
      "text/plain": [
       "(4000, 15)"
      ]
     },
     "execution_count": 67,
     "metadata": {},
     "output_type": "execute_result"
    }
   ],
   "source": [
    "X_train.shape"
   ]
  },
  {
   "cell_type": "code",
   "execution_count": 68,
   "id": "b25caf85",
   "metadata": {},
   "outputs": [
    {
     "data": {
      "text/plain": [
       "(1000, 15)"
      ]
     },
     "execution_count": 68,
     "metadata": {},
     "output_type": "execute_result"
    }
   ],
   "source": [
    "X_test.shape"
   ]
  },
  {
   "cell_type": "markdown",
   "id": "dad5c365",
   "metadata": {},
   "source": [
    "# Task 4 #\n",
    "Продолжайте работать с датасетом музыкальных композиций.\n",
    "\n",
    "1. Обучите дерево решений для задачи на базовых параметрах с фиксированным random_state=1 \n",
    "\n",
    "2. Посчитайте метрику MSE и выберите правильный вариант ответа:\n",
    "\n",
    "Выберите один ответ:\n",
    "Модель недообучена, необходимо уменьшить глубину дерева\n",
    "Модель переобучена на обучающем наборе данных, необходимо уменьшить глубину дерева \n",
    "Модель переобучена на тестовом наборе данных, необходимо уменьшить глубину дерева\n",
    "Модель недообучена, необходимо увеличить глубину дерева"
   ]
  },
  {
   "cell_type": "code",
   "execution_count": 69,
   "id": "4ce6592f",
   "metadata": {},
   "outputs": [
    {
     "data": {
      "text/html": [
       "<style>#sk-container-id-4 {\n",
       "  /* Definition of color scheme common for light and dark mode */\n",
       "  --sklearn-color-text: #000;\n",
       "  --sklearn-color-text-muted: #666;\n",
       "  --sklearn-color-line: gray;\n",
       "  /* Definition of color scheme for unfitted estimators */\n",
       "  --sklearn-color-unfitted-level-0: #fff5e6;\n",
       "  --sklearn-color-unfitted-level-1: #f6e4d2;\n",
       "  --sklearn-color-unfitted-level-2: #ffe0b3;\n",
       "  --sklearn-color-unfitted-level-3: chocolate;\n",
       "  /* Definition of color scheme for fitted estimators */\n",
       "  --sklearn-color-fitted-level-0: #f0f8ff;\n",
       "  --sklearn-color-fitted-level-1: #d4ebff;\n",
       "  --sklearn-color-fitted-level-2: #b3dbfd;\n",
       "  --sklearn-color-fitted-level-3: cornflowerblue;\n",
       "\n",
       "  /* Specific color for light theme */\n",
       "  --sklearn-color-text-on-default-background: var(--sg-text-color, var(--theme-code-foreground, var(--jp-content-font-color1, black)));\n",
       "  --sklearn-color-background: var(--sg-background-color, var(--theme-background, var(--jp-layout-color0, white)));\n",
       "  --sklearn-color-border-box: var(--sg-text-color, var(--theme-code-foreground, var(--jp-content-font-color1, black)));\n",
       "  --sklearn-color-icon: #696969;\n",
       "\n",
       "  @media (prefers-color-scheme: dark) {\n",
       "    /* Redefinition of color scheme for dark theme */\n",
       "    --sklearn-color-text-on-default-background: var(--sg-text-color, var(--theme-code-foreground, var(--jp-content-font-color1, white)));\n",
       "    --sklearn-color-background: var(--sg-background-color, var(--theme-background, var(--jp-layout-color0, #111)));\n",
       "    --sklearn-color-border-box: var(--sg-text-color, var(--theme-code-foreground, var(--jp-content-font-color1, white)));\n",
       "    --sklearn-color-icon: #878787;\n",
       "  }\n",
       "}\n",
       "\n",
       "#sk-container-id-4 {\n",
       "  color: var(--sklearn-color-text);\n",
       "}\n",
       "\n",
       "#sk-container-id-4 pre {\n",
       "  padding: 0;\n",
       "}\n",
       "\n",
       "#sk-container-id-4 input.sk-hidden--visually {\n",
       "  border: 0;\n",
       "  clip: rect(1px 1px 1px 1px);\n",
       "  clip: rect(1px, 1px, 1px, 1px);\n",
       "  height: 1px;\n",
       "  margin: -1px;\n",
       "  overflow: hidden;\n",
       "  padding: 0;\n",
       "  position: absolute;\n",
       "  width: 1px;\n",
       "}\n",
       "\n",
       "#sk-container-id-4 div.sk-dashed-wrapped {\n",
       "  border: 1px dashed var(--sklearn-color-line);\n",
       "  margin: 0 0.4em 0.5em 0.4em;\n",
       "  box-sizing: border-box;\n",
       "  padding-bottom: 0.4em;\n",
       "  background-color: var(--sklearn-color-background);\n",
       "}\n",
       "\n",
       "#sk-container-id-4 div.sk-container {\n",
       "  /* jupyter's `normalize.less` sets `[hidden] { display: none; }`\n",
       "     but bootstrap.min.css set `[hidden] { display: none !important; }`\n",
       "     so we also need the `!important` here to be able to override the\n",
       "     default hidden behavior on the sphinx rendered scikit-learn.org.\n",
       "     See: https://github.com/scikit-learn/scikit-learn/issues/21755 */\n",
       "  display: inline-block !important;\n",
       "  position: relative;\n",
       "}\n",
       "\n",
       "#sk-container-id-4 div.sk-text-repr-fallback {\n",
       "  display: none;\n",
       "}\n",
       "\n",
       "div.sk-parallel-item,\n",
       "div.sk-serial,\n",
       "div.sk-item {\n",
       "  /* draw centered vertical line to link estimators */\n",
       "  background-image: linear-gradient(var(--sklearn-color-text-on-default-background), var(--sklearn-color-text-on-default-background));\n",
       "  background-size: 2px 100%;\n",
       "  background-repeat: no-repeat;\n",
       "  background-position: center center;\n",
       "}\n",
       "\n",
       "/* Parallel-specific style estimator block */\n",
       "\n",
       "#sk-container-id-4 div.sk-parallel-item::after {\n",
       "  content: \"\";\n",
       "  width: 100%;\n",
       "  border-bottom: 2px solid var(--sklearn-color-text-on-default-background);\n",
       "  flex-grow: 1;\n",
       "}\n",
       "\n",
       "#sk-container-id-4 div.sk-parallel {\n",
       "  display: flex;\n",
       "  align-items: stretch;\n",
       "  justify-content: center;\n",
       "  background-color: var(--sklearn-color-background);\n",
       "  position: relative;\n",
       "}\n",
       "\n",
       "#sk-container-id-4 div.sk-parallel-item {\n",
       "  display: flex;\n",
       "  flex-direction: column;\n",
       "}\n",
       "\n",
       "#sk-container-id-4 div.sk-parallel-item:first-child::after {\n",
       "  align-self: flex-end;\n",
       "  width: 50%;\n",
       "}\n",
       "\n",
       "#sk-container-id-4 div.sk-parallel-item:last-child::after {\n",
       "  align-self: flex-start;\n",
       "  width: 50%;\n",
       "}\n",
       "\n",
       "#sk-container-id-4 div.sk-parallel-item:only-child::after {\n",
       "  width: 0;\n",
       "}\n",
       "\n",
       "/* Serial-specific style estimator block */\n",
       "\n",
       "#sk-container-id-4 div.sk-serial {\n",
       "  display: flex;\n",
       "  flex-direction: column;\n",
       "  align-items: center;\n",
       "  background-color: var(--sklearn-color-background);\n",
       "  padding-right: 1em;\n",
       "  padding-left: 1em;\n",
       "}\n",
       "\n",
       "\n",
       "/* Toggleable style: style used for estimator/Pipeline/ColumnTransformer box that is\n",
       "clickable and can be expanded/collapsed.\n",
       "- Pipeline and ColumnTransformer use this feature and define the default style\n",
       "- Estimators will overwrite some part of the style using the `sk-estimator` class\n",
       "*/\n",
       "\n",
       "/* Pipeline and ColumnTransformer style (default) */\n",
       "\n",
       "#sk-container-id-4 div.sk-toggleable {\n",
       "  /* Default theme specific background. It is overwritten whether we have a\n",
       "  specific estimator or a Pipeline/ColumnTransformer */\n",
       "  background-color: var(--sklearn-color-background);\n",
       "}\n",
       "\n",
       "/* Toggleable label */\n",
       "#sk-container-id-4 label.sk-toggleable__label {\n",
       "  cursor: pointer;\n",
       "  display: flex;\n",
       "  width: 100%;\n",
       "  margin-bottom: 0;\n",
       "  padding: 0.5em;\n",
       "  box-sizing: border-box;\n",
       "  text-align: center;\n",
       "  align-items: start;\n",
       "  justify-content: space-between;\n",
       "  gap: 0.5em;\n",
       "}\n",
       "\n",
       "#sk-container-id-4 label.sk-toggleable__label .caption {\n",
       "  font-size: 0.6rem;\n",
       "  font-weight: lighter;\n",
       "  color: var(--sklearn-color-text-muted);\n",
       "}\n",
       "\n",
       "#sk-container-id-4 label.sk-toggleable__label-arrow:before {\n",
       "  /* Arrow on the left of the label */\n",
       "  content: \"▸\";\n",
       "  float: left;\n",
       "  margin-right: 0.25em;\n",
       "  color: var(--sklearn-color-icon);\n",
       "}\n",
       "\n",
       "#sk-container-id-4 label.sk-toggleable__label-arrow:hover:before {\n",
       "  color: var(--sklearn-color-text);\n",
       "}\n",
       "\n",
       "/* Toggleable content - dropdown */\n",
       "\n",
       "#sk-container-id-4 div.sk-toggleable__content {\n",
       "  max-height: 0;\n",
       "  max-width: 0;\n",
       "  overflow: hidden;\n",
       "  text-align: left;\n",
       "  /* unfitted */\n",
       "  background-color: var(--sklearn-color-unfitted-level-0);\n",
       "}\n",
       "\n",
       "#sk-container-id-4 div.sk-toggleable__content.fitted {\n",
       "  /* fitted */\n",
       "  background-color: var(--sklearn-color-fitted-level-0);\n",
       "}\n",
       "\n",
       "#sk-container-id-4 div.sk-toggleable__content pre {\n",
       "  margin: 0.2em;\n",
       "  border-radius: 0.25em;\n",
       "  color: var(--sklearn-color-text);\n",
       "  /* unfitted */\n",
       "  background-color: var(--sklearn-color-unfitted-level-0);\n",
       "}\n",
       "\n",
       "#sk-container-id-4 div.sk-toggleable__content.fitted pre {\n",
       "  /* unfitted */\n",
       "  background-color: var(--sklearn-color-fitted-level-0);\n",
       "}\n",
       "\n",
       "#sk-container-id-4 input.sk-toggleable__control:checked~div.sk-toggleable__content {\n",
       "  /* Expand drop-down */\n",
       "  max-height: 200px;\n",
       "  max-width: 100%;\n",
       "  overflow: auto;\n",
       "}\n",
       "\n",
       "#sk-container-id-4 input.sk-toggleable__control:checked~label.sk-toggleable__label-arrow:before {\n",
       "  content: \"▾\";\n",
       "}\n",
       "\n",
       "/* Pipeline/ColumnTransformer-specific style */\n",
       "\n",
       "#sk-container-id-4 div.sk-label input.sk-toggleable__control:checked~label.sk-toggleable__label {\n",
       "  color: var(--sklearn-color-text);\n",
       "  background-color: var(--sklearn-color-unfitted-level-2);\n",
       "}\n",
       "\n",
       "#sk-container-id-4 div.sk-label.fitted input.sk-toggleable__control:checked~label.sk-toggleable__label {\n",
       "  background-color: var(--sklearn-color-fitted-level-2);\n",
       "}\n",
       "\n",
       "/* Estimator-specific style */\n",
       "\n",
       "/* Colorize estimator box */\n",
       "#sk-container-id-4 div.sk-estimator input.sk-toggleable__control:checked~label.sk-toggleable__label {\n",
       "  /* unfitted */\n",
       "  background-color: var(--sklearn-color-unfitted-level-2);\n",
       "}\n",
       "\n",
       "#sk-container-id-4 div.sk-estimator.fitted input.sk-toggleable__control:checked~label.sk-toggleable__label {\n",
       "  /* fitted */\n",
       "  background-color: var(--sklearn-color-fitted-level-2);\n",
       "}\n",
       "\n",
       "#sk-container-id-4 div.sk-label label.sk-toggleable__label,\n",
       "#sk-container-id-4 div.sk-label label {\n",
       "  /* The background is the default theme color */\n",
       "  color: var(--sklearn-color-text-on-default-background);\n",
       "}\n",
       "\n",
       "/* On hover, darken the color of the background */\n",
       "#sk-container-id-4 div.sk-label:hover label.sk-toggleable__label {\n",
       "  color: var(--sklearn-color-text);\n",
       "  background-color: var(--sklearn-color-unfitted-level-2);\n",
       "}\n",
       "\n",
       "/* Label box, darken color on hover, fitted */\n",
       "#sk-container-id-4 div.sk-label.fitted:hover label.sk-toggleable__label.fitted {\n",
       "  color: var(--sklearn-color-text);\n",
       "  background-color: var(--sklearn-color-fitted-level-2);\n",
       "}\n",
       "\n",
       "/* Estimator label */\n",
       "\n",
       "#sk-container-id-4 div.sk-label label {\n",
       "  font-family: monospace;\n",
       "  font-weight: bold;\n",
       "  display: inline-block;\n",
       "  line-height: 1.2em;\n",
       "}\n",
       "\n",
       "#sk-container-id-4 div.sk-label-container {\n",
       "  text-align: center;\n",
       "}\n",
       "\n",
       "/* Estimator-specific */\n",
       "#sk-container-id-4 div.sk-estimator {\n",
       "  font-family: monospace;\n",
       "  border: 1px dotted var(--sklearn-color-border-box);\n",
       "  border-radius: 0.25em;\n",
       "  box-sizing: border-box;\n",
       "  margin-bottom: 0.5em;\n",
       "  /* unfitted */\n",
       "  background-color: var(--sklearn-color-unfitted-level-0);\n",
       "}\n",
       "\n",
       "#sk-container-id-4 div.sk-estimator.fitted {\n",
       "  /* fitted */\n",
       "  background-color: var(--sklearn-color-fitted-level-0);\n",
       "}\n",
       "\n",
       "/* on hover */\n",
       "#sk-container-id-4 div.sk-estimator:hover {\n",
       "  /* unfitted */\n",
       "  background-color: var(--sklearn-color-unfitted-level-2);\n",
       "}\n",
       "\n",
       "#sk-container-id-4 div.sk-estimator.fitted:hover {\n",
       "  /* fitted */\n",
       "  background-color: var(--sklearn-color-fitted-level-2);\n",
       "}\n",
       "\n",
       "/* Specification for estimator info (e.g. \"i\" and \"?\") */\n",
       "\n",
       "/* Common style for \"i\" and \"?\" */\n",
       "\n",
       ".sk-estimator-doc-link,\n",
       "a:link.sk-estimator-doc-link,\n",
       "a:visited.sk-estimator-doc-link {\n",
       "  float: right;\n",
       "  font-size: smaller;\n",
       "  line-height: 1em;\n",
       "  font-family: monospace;\n",
       "  background-color: var(--sklearn-color-background);\n",
       "  border-radius: 1em;\n",
       "  height: 1em;\n",
       "  width: 1em;\n",
       "  text-decoration: none !important;\n",
       "  margin-left: 0.5em;\n",
       "  text-align: center;\n",
       "  /* unfitted */\n",
       "  border: var(--sklearn-color-unfitted-level-1) 1pt solid;\n",
       "  color: var(--sklearn-color-unfitted-level-1);\n",
       "}\n",
       "\n",
       ".sk-estimator-doc-link.fitted,\n",
       "a:link.sk-estimator-doc-link.fitted,\n",
       "a:visited.sk-estimator-doc-link.fitted {\n",
       "  /* fitted */\n",
       "  border: var(--sklearn-color-fitted-level-1) 1pt solid;\n",
       "  color: var(--sklearn-color-fitted-level-1);\n",
       "}\n",
       "\n",
       "/* On hover */\n",
       "div.sk-estimator:hover .sk-estimator-doc-link:hover,\n",
       ".sk-estimator-doc-link:hover,\n",
       "div.sk-label-container:hover .sk-estimator-doc-link:hover,\n",
       ".sk-estimator-doc-link:hover {\n",
       "  /* unfitted */\n",
       "  background-color: var(--sklearn-color-unfitted-level-3);\n",
       "  color: var(--sklearn-color-background);\n",
       "  text-decoration: none;\n",
       "}\n",
       "\n",
       "div.sk-estimator.fitted:hover .sk-estimator-doc-link.fitted:hover,\n",
       ".sk-estimator-doc-link.fitted:hover,\n",
       "div.sk-label-container:hover .sk-estimator-doc-link.fitted:hover,\n",
       ".sk-estimator-doc-link.fitted:hover {\n",
       "  /* fitted */\n",
       "  background-color: var(--sklearn-color-fitted-level-3);\n",
       "  color: var(--sklearn-color-background);\n",
       "  text-decoration: none;\n",
       "}\n",
       "\n",
       "/* Span, style for the box shown on hovering the info icon */\n",
       ".sk-estimator-doc-link span {\n",
       "  display: none;\n",
       "  z-index: 9999;\n",
       "  position: relative;\n",
       "  font-weight: normal;\n",
       "  right: .2ex;\n",
       "  padding: .5ex;\n",
       "  margin: .5ex;\n",
       "  width: min-content;\n",
       "  min-width: 20ex;\n",
       "  max-width: 50ex;\n",
       "  color: var(--sklearn-color-text);\n",
       "  box-shadow: 2pt 2pt 4pt #999;\n",
       "  /* unfitted */\n",
       "  background: var(--sklearn-color-unfitted-level-0);\n",
       "  border: .5pt solid var(--sklearn-color-unfitted-level-3);\n",
       "}\n",
       "\n",
       ".sk-estimator-doc-link.fitted span {\n",
       "  /* fitted */\n",
       "  background: var(--sklearn-color-fitted-level-0);\n",
       "  border: var(--sklearn-color-fitted-level-3);\n",
       "}\n",
       "\n",
       ".sk-estimator-doc-link:hover span {\n",
       "  display: block;\n",
       "}\n",
       "\n",
       "/* \"?\"-specific style due to the `<a>` HTML tag */\n",
       "\n",
       "#sk-container-id-4 a.estimator_doc_link {\n",
       "  float: right;\n",
       "  font-size: 1rem;\n",
       "  line-height: 1em;\n",
       "  font-family: monospace;\n",
       "  background-color: var(--sklearn-color-background);\n",
       "  border-radius: 1rem;\n",
       "  height: 1rem;\n",
       "  width: 1rem;\n",
       "  text-decoration: none;\n",
       "  /* unfitted */\n",
       "  color: var(--sklearn-color-unfitted-level-1);\n",
       "  border: var(--sklearn-color-unfitted-level-1) 1pt solid;\n",
       "}\n",
       "\n",
       "#sk-container-id-4 a.estimator_doc_link.fitted {\n",
       "  /* fitted */\n",
       "  border: var(--sklearn-color-fitted-level-1) 1pt solid;\n",
       "  color: var(--sklearn-color-fitted-level-1);\n",
       "}\n",
       "\n",
       "/* On hover */\n",
       "#sk-container-id-4 a.estimator_doc_link:hover {\n",
       "  /* unfitted */\n",
       "  background-color: var(--sklearn-color-unfitted-level-3);\n",
       "  color: var(--sklearn-color-background);\n",
       "  text-decoration: none;\n",
       "}\n",
       "\n",
       "#sk-container-id-4 a.estimator_doc_link.fitted:hover {\n",
       "  /* fitted */\n",
       "  background-color: var(--sklearn-color-fitted-level-3);\n",
       "}\n",
       "</style><div id=\"sk-container-id-4\" class=\"sk-top-container\"><div class=\"sk-text-repr-fallback\"><pre>DecisionTreeRegressor(random_state=1)</pre><b>In a Jupyter environment, please rerun this cell to show the HTML representation or trust the notebook. <br />On GitHub, the HTML representation is unable to render, please try loading this page with nbviewer.org.</b></div><div class=\"sk-container\" hidden><div class=\"sk-item\"><div class=\"sk-estimator fitted sk-toggleable\"><input class=\"sk-toggleable__control sk-hidden--visually\" id=\"sk-estimator-id-4\" type=\"checkbox\" checked><label for=\"sk-estimator-id-4\" class=\"sk-toggleable__label fitted sk-toggleable__label-arrow\"><div><div>DecisionTreeRegressor</div></div><div><a class=\"sk-estimator-doc-link fitted\" rel=\"noreferrer\" target=\"_blank\" href=\"https://scikit-learn.org/1.6/modules/generated/sklearn.tree.DecisionTreeRegressor.html\">?<span>Documentation for DecisionTreeRegressor</span></a><span class=\"sk-estimator-doc-link fitted\">i<span>Fitted</span></span></div></label><div class=\"sk-toggleable__content fitted\"><pre>DecisionTreeRegressor(random_state=1)</pre></div> </div></div></div></div>"
      ],
      "text/plain": [
       "DecisionTreeRegressor(random_state=1)"
      ]
     },
     "execution_count": 69,
     "metadata": {},
     "output_type": "execute_result"
    }
   ],
   "source": [
    "clf = DecisionTreeRegressor(random_state=1)\n",
    "clf.fit(X_train, y_train)"
   ]
  },
  {
   "cell_type": "code",
   "execution_count": 70,
   "id": "1c3012d7",
   "metadata": {},
   "outputs": [],
   "source": [
    "y_pred_test = clf.predict(X_test)\n",
    "y_pred_train = clf.predict(X_train)\n"
   ]
  },
  {
   "cell_type": "code",
   "execution_count": 71,
   "id": "e7dab825",
   "metadata": {},
   "outputs": [
    {
     "data": {
      "text/plain": [
       "20.26219201619459"
      ]
     },
     "execution_count": 71,
     "metadata": {},
     "output_type": "execute_result"
    }
   ],
   "source": [
    "mean_squared_error(y_train, y_pred_train)"
   ]
  },
  {
   "cell_type": "code",
   "execution_count": 72,
   "id": "19df9ae8",
   "metadata": {},
   "outputs": [
    {
     "data": {
      "text/plain": [
       "899.3786557955538"
      ]
     },
     "execution_count": 72,
     "metadata": {},
     "output_type": "execute_result"
    }
   ],
   "source": [
    "mean_squared_error(y_test, y_pred_test)"
   ]
  },
  {
   "cell_type": "markdown",
   "id": "988cae97",
   "metadata": {},
   "source": [
    "Answer 4:\n",
    "Модель переобучена на обучающем наборе данных, необходимо уменьшить глубину дерева"
   ]
  },
  {
   "cell_type": "code",
   "execution_count": 73,
   "id": "dc47df4e",
   "metadata": {},
   "outputs": [
    {
     "data": {
      "text/plain": [
       "30"
      ]
     },
     "execution_count": 73,
     "metadata": {},
     "output_type": "execute_result"
    }
   ],
   "source": [
    "depth = clf.get_depth()\n",
    "depth"
   ]
  },
  {
   "cell_type": "markdown",
   "id": "70a3d380",
   "metadata": {},
   "source": [
    "# Task 5 #\n",
    "Продолжайте работать с датасетом музыкальных композиций.\n",
    "\n",
    "У модели дерево решений оставьте параметр random_state=1. Измените только глубину дерева решений в диапазонах от 1 до 25, чтобы метрика MSE на тесте стала самой лучшей и напишите полученное значение метрики, округлив её до 2 знака после точки."
   ]
  },
  {
   "cell_type": "code",
   "execution_count": 74,
   "id": "8ae77c39",
   "metadata": {},
   "outputs": [
    {
     "data": {
      "text/plain": [
       "array([ 1,  2,  3,  4,  5,  6,  7,  8,  9, 10, 11, 12, 13, 14, 15, 16, 17,\n",
       "       18, 19, 20, 21, 22, 23, 24, 25])"
      ]
     },
     "execution_count": 74,
     "metadata": {},
     "output_type": "execute_result"
    }
   ],
   "source": [
    "Depth_tree = np.arange(1, 26)\n",
    "Depth_tree"
   ]
  },
  {
   "cell_type": "code",
   "execution_count": 75,
   "id": "d25d6c7e",
   "metadata": {},
   "outputs": [
    {
     "name": "stdout",
     "output_type": "stream",
     "text": [
      "815.29\n",
      "797.68\n",
      "754.03\n",
      "731.23\n",
      "732.23\n",
      "726.98\n",
      "734.56\n",
      "717.15\n",
      "713.42\n",
      "705.91\n",
      "741.30\n",
      "790.37\n",
      "817.81\n",
      "802.64\n",
      "826.14\n",
      "867.94\n",
      "863.55\n",
      "902.10\n",
      "898.53\n",
      "945.68\n",
      "894.68\n",
      "904.67\n",
      "918.01\n",
      "918.69\n",
      "916.23\n",
      "best mse - 705.91\n"
     ]
    }
   ],
   "source": [
    "mse = 10000\n",
    "for dp in Depth_tree:\n",
    "    clf = DecisionTreeRegressor(random_state=1, max_depth=dp)\n",
    "    clf.fit(X_train, y_train)\n",
    "    y5_pred = clf.predict(X_test)\n",
    "    \n",
    "    err = mean_squared_error(y_test, y5_pred)\n",
    "    print(f'{err:.2f}')\n",
    "    if err < mse:\n",
    "        mse = err\n",
    "print(f\"best mse - {mse:.2f}\")"
   ]
  },
  {
   "cell_type": "markdown",
   "id": "c6b4f6cd",
   "metadata": {},
   "source": [
    "# Task 6 #\n",
    "Продолжайте работать с датасетом музыкальных композиций.\n",
    "Модель регрессии обучилась крайне плохо на датасете, давайте перейдем к задаче бинарной классификации (популярная песня/не популярная песня), для этого нужно перевести целевой признак `popularity` в бинарный вид: \n",
    "\n",
    "- Если признак `popularity` больше 50 - 1 класс\n",
    "\n",
    "- Если признак `popularity` меньше или равен 50 - 0 класс \n",
    "\n",
    "Работайте с выборками после разбиения на обучение и тест и создайте переменные y_train_bin и y_test_bin.\n",
    "\n",
    "Посчитайте соотношение классов на обучающей и тестовой выборках и укажите эти значения"
   ]
  },
  {
   "cell_type": "code",
   "execution_count": 76,
   "id": "8c3e17d3",
   "metadata": {},
   "outputs": [
    {
     "data": {
      "text/plain": [
       "2764    1\n",
       "4767    1\n",
       "3814    0\n",
       "3499    0\n",
       "2735    1\n",
       "       ..\n",
       "448     0\n",
       "921     1\n",
       "4087    0\n",
       "1242    0\n",
       "2242    0\n",
       "Name: popularity, Length: 1000, dtype: int32"
      ]
     },
     "execution_count": 76,
     "metadata": {},
     "output_type": "execute_result"
    }
   ],
   "source": [
    "y_test_bin = (y_test > 50).astype(int)\n",
    "y_train_bin = (y_train > 50).astype(int)\n",
    "y_test_bin"
   ]
  },
  {
   "cell_type": "code",
   "execution_count": 77,
   "id": "4f98fc56",
   "metadata": {},
   "outputs": [
    {
     "data": {
      "text/plain": [
       "1233    0\n",
       "1056    1\n",
       "1686    1\n",
       "187     0\n",
       "3840    0\n",
       "       ..\n",
       "2895    1\n",
       "2763    1\n",
       "905     0\n",
       "3980    0\n",
       "235     0\n",
       "Name: popularity, Length: 4000, dtype: int32"
      ]
     },
     "execution_count": 77,
     "metadata": {},
     "output_type": "execute_result"
    }
   ],
   "source": [
    "y_train_bin"
   ]
  },
  {
   "cell_type": "markdown",
   "id": "ca6d0047",
   "metadata": {},
   "source": [
    "Answer 6"
   ]
  },
  {
   "cell_type": "code",
   "execution_count": 78,
   "id": "dc96549e",
   "metadata": {},
   "outputs": [
    {
     "data": {
      "text/plain": [
       "(2373, 1627)"
      ]
     },
     "execution_count": 78,
     "metadata": {},
     "output_type": "execute_result"
    }
   ],
   "source": [
    "y1n = y_train_bin.sum()\n",
    "y0n = y_train_bin.shape[0] - y1n\n",
    "y0n, y1n"
   ]
  },
  {
   "cell_type": "code",
   "execution_count": 79,
   "id": "1a2bb277",
   "metadata": {},
   "outputs": [
    {
     "data": {
      "text/plain": [
       "(599, 401)"
      ]
     },
     "execution_count": 79,
     "metadata": {},
     "output_type": "execute_result"
    }
   ],
   "source": [
    "y1t =y_test_bin.sum()\n",
    "y0t = y_test_bin.shape[0] - y1t\n",
    "y0t, y1t"
   ]
  },
  {
   "cell_type": "markdown",
   "id": "2da956c6",
   "metadata": {},
   "source": [
    "# Task 7 #\n",
    "Продолжайте работать с датасетом музыкальных композиций.\n",
    "Обучите дерево решений для задачи бинарной классификации с фиксированным `random_state=1`, измените только глубину дерева в диапазоне от 1 до 25, чтобы метрика accuracy на тесте была самая лучшая.\n",
    "\n",
    "Какая метрика accuracy на тесте у вас получилась?"
   ]
  },
  {
   "cell_type": "code",
   "execution_count": 80,
   "id": "f811a451",
   "metadata": {},
   "outputs": [
    {
     "name": "stdout",
     "output_type": "stream",
     "text": [
      "1: 0.599\n",
      "2: 0.675\n",
      "3: 0.675\n",
      "4: 0.651\n",
      "5: 0.665\n",
      "6: 0.65\n",
      "7: 0.681\n",
      "8: 0.677\n",
      "9: 0.678\n",
      "10: 0.69\n",
      "11: 0.691\n",
      "12: 0.676\n",
      "13: 0.68\n",
      "14: 0.692\n",
      "15: 0.687\n",
      "16: 0.687\n",
      "17: 0.689\n",
      "18: 0.691\n",
      "19: 0.695\n",
      "20: 0.693\n",
      "21: 0.697\n",
      "22: 0.685\n",
      "23: 0.695\n",
      "24: 0.696\n",
      "25: 0.69\n"
     ]
    },
    {
     "data": {
      "text/plain": [
       "0.697"
      ]
     },
     "execution_count": 80,
     "metadata": {},
     "output_type": "execute_result"
    }
   ],
   "source": [
    "acc = 0\n",
    "for dp in Depth_tree:\n",
    "    clf = DecisionTreeClassifier(random_state=1, max_depth=dp)\n",
    "    clf.fit(X_train, y_train_bin)\n",
    "    y7_pred = clf.predict(X_test)\n",
    "    \n",
    "    err = accuracy_score(y_test_bin, y7_pred)\n",
    "    print(f'{dp}: {err}')\n",
    "    if err > acc:\n",
    "        acc = err\n",
    "acc"
   ]
  },
  {
   "cell_type": "markdown",
   "id": "47de037f",
   "metadata": {},
   "source": [
    "# Task 8 #\n",
    "Продолжайте работать с датасетом музыкальных композиций.\n",
    "Получите важности признаков у обученной модели дерева решений с предыдущего задания и выберите верные утверждения:\n",
    "\n",
    "Выберите один или несколько ответов:\n",
    "Признак `duration_ms` полезней, чем признак `danceability` \n",
    "Признак `valence` один из самых полезных признаков \n",
    "Признак `explicit` один из самых полезных признаков\n",
    "Признак `key` полезней, чем признак `liveness`"
   ]
  },
  {
   "cell_type": "code",
   "execution_count": 81,
   "id": "29201fc2",
   "metadata": {},
   "outputs": [
    {
     "name": "stdout",
     "output_type": "stream",
     "text": [
      "1 :  0.59325 0.599\n",
      "2 :  0.64575 0.675\n",
      "3 :  0.64575 0.675\n",
      "4 :  0.66575 0.651\n",
      "5 :  0.695 0.665\n",
      "6 :  0.716 0.65\n",
      "7 :  0.75175 0.681\n",
      "8 :  0.7945 0.677\n",
      "9 :  0.8245 0.678\n",
      "10 :  0.85875 0.69\n",
      "11 :  0.897 0.691\n",
      "12 :  0.921 0.676\n",
      "13 :  0.93625 0.68\n",
      "14 :  0.95125 0.692\n",
      "15 :  0.96075 0.687\n",
      "16 :  0.97125 0.687\n",
      "17 :  0.98075 0.689\n",
      "18 :  0.98375 0.691\n",
      "19 :  0.988 0.695\n",
      "20 :  0.99075 0.693\n",
      "21 :  0.99175 0.697\n",
      "22 :  0.992 0.685\n",
      "23 :  0.99225 0.695\n",
      "24 :  0.99325 0.696\n",
      "25 :  0.9935 0.69\n"
     ]
    }
   ],
   "source": [
    "from sklearn.metrics import accuracy_score\n",
    "\n",
    "for i in range(1, 26):\n",
    "    clf = DecisionTreeClassifier(random_state=1, max_depth=i)\n",
    "    clf.fit(X_train, y_train_bin)\n",
    "    y_test_pred = clf.predict(X_test)\n",
    "    y_train_pred = clf.predict(X_train)\n",
    "\n",
    "    print(i, ': ', accuracy_score(y_train_bin, y_train_pred), accuracy_score(y_test_bin, y_test_pred))"
   ]
  },
  {
   "cell_type": "code",
   "execution_count": 82,
   "id": "224c26aa",
   "metadata": {},
   "outputs": [
    {
     "name": "stdout",
     "output_type": "stream",
     "text": [
      "duration_ms: 0.089\n",
      "explicit: 0.011\n",
      "danceability: 0.060\n",
      "energy: 0.080\n",
      "key: 0.041\n",
      "loudness: 0.098\n",
      "mode: 0.006\n",
      "speechiness: 0.087\n",
      "acousticness: 0.096\n",
      "instrumentalness: 0.067\n",
      "liveness: 0.079\n",
      "valence: 0.110\n",
      "tempo: 0.075\n",
      "time_signature: 0.010\n",
      "track_genre: 0.091\n"
     ]
    }
   ],
   "source": [
    "importances = clf.feature_importances_\n",
    "X = data.iloc[:, 1:]\n",
    "for name, imp in zip(X.columns, importances):\n",
    "    print(f'{name}: {imp:.3f}')"
   ]
  },
  {
   "cell_type": "markdown",
   "id": "7a35975a",
   "metadata": {},
   "source": [
    "Answer 8:\n",
    "\n",
    "Признак `duration_ms` полезней, чем признак `danceability` \n",
    "\n",
    "Признак `valence` один из самых полезных признако"
   ]
  },
  {
   "cell_type": "markdown",
   "id": "80d65012",
   "metadata": {},
   "source": []
  }
 ],
 "metadata": {
  "kernelspec": {
   "display_name": "Python 3",
   "language": "python",
   "name": "python3"
  },
  "language_info": {
   "codemirror_mode": {
    "name": "ipython",
    "version": 3
   },
   "file_extension": ".py",
   "mimetype": "text/x-python",
   "name": "python",
   "nbconvert_exporter": "python",
   "pygments_lexer": "ipython3",
   "version": "3.11.4"
  }
 },
 "nbformat": 4,
 "nbformat_minor": 5
}
